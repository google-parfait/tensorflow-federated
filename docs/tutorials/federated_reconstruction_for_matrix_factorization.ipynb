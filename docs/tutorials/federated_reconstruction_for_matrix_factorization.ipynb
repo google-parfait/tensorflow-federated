{
  "cells": [
    {
      "cell_type": "markdown",
      "metadata": {
        "id": "qN8P0AnTnAhh"
      },
      "source": [
        "##### Copyright 2021 The TensorFlow Authors."
      ]
    },
    {
      "cell_type": "code",
      "execution_count": null,
      "metadata": {
        "cellView": "form",
        "id": "p8SrVqkmnDQv"
      },
      "outputs": [],
      "source": [
        "#@title Licensed under the Apache License, Version 2.0 (the \"License\");\n",
        "# you may not use this file except in compliance with the License.\n",
        "# You may obtain a copy of the License at\n",
        "#\n",
        "# https://www.apache.org/licenses/LICENSE-2.0\n",
        "#\n",
        "# Unless required by applicable law or agreed to in writing, software\n",
        "# distributed under the License is distributed on an \"AS IS\" BASIS,\n",
        "# WITHOUT WARRANTIES OR CONDITIONS OF ANY KIND, either express or implied.\n",
        "# See the License for the specific language governing permissions and\n",
        "# limitations under the License."
      ]
    },
    {
      "cell_type": "markdown",
      "metadata": {
        "id": "AftvNA5VMemJ"
      },
      "source": [
        "# Federated Reconstruction for Matrix Factorization"
      ]
    },
    {
      "cell_type": "markdown",
      "metadata": {
        "id": "coAumH42q9nz"
      },
      "source": [
        "<table class=\"tfo-notebook-buttons\" align=\"left\">\n",
        "  <td>\n",
        "    <a target=\"_blank\" href=\"https://www.tensorflow.org/federated/tutorials/federated_reconstruction_for_matrix_factorization\"><img src=\"https://www.tensorflow.org/images/tf_logo_32px.png\" />View on TensorFlow.org</a>\n",
        "  </td>\n",
        "  <td>\n",
        "    <a target=\"_blank\" href=\"https://colab.research.google.com/github/tensorflow/federated/blob/v0.39.0/docs/tutorials/federated_reconstruction_for_matrix_factorization.ipynb\"><img src=\"https://www.tensorflow.org/images/colab_logo_32px.png\" />Run in Google Colab</a>\n",
        "  </td>\n",
        "  <td>\n",
        "    <a target=\"_blank\" href=\"https://github.com/tensorflow/federated/blob/v0.39.0/docs/tutorials/federated_reconstruction_for_matrix_factorization.ipynb\"><img src=\"https://www.tensorflow.org/images/GitHub-Mark-32px.png\" />View source on GitHub</a>\n",
        "  </td>\n",
        "  <td>\n",
        "    <a href=\"https://storage.googleapis.com/tensorflow_docs/federated/docs/tutorials/federated_reconstruction_for_matrix_factorization.ipynb\"><img src=\"https://www.tensorflow.org/images/download_logo_32px.png\" />Download notebook</a>\n",
        "  </td>\n",
        "</table>"
      ]
    },
    {
      "cell_type": "markdown",
      "metadata": {
        "id": "mxV9o4VmWNti"
      },
      "source": [
        "This tutorial explores *partially local federated learning*, where some client parameters are never aggregated on the server. This is useful for models with user-specific parameters (e.g. matrix factorization models) and for training in communication-limited settings. We build on concepts introduced in the [Federated Learning for Image Classification](https://www.tensorflow.org/federated/tutorials/federated_learning_for_image_classification) tutorial; as in that tutorial, we introduce high-level APIs in `tff.learning` for federated training and evaluation.\n",
        "\n",
        "We begin by motivating partially local federated learning for [matrix factorization](https://en.wikipedia.org/wiki/Matrix_factorization_(recommender_systems)). We describe Federated Reconstruction ([paper](https://arxiv.org/abs/2102.03448), [blog post](https://ai.googleblog.com/2021/12/a-scalable-approach-for-partially-local.html)), a practical algorithm for partially local federated learning at scale. We prepare the MovieLens 1M dataset, build a partially local model, and train and evaluate it."
      ]
    },
    {
      "cell_type": "code",
      "execution_count": null,
      "metadata": {
        "id": "I8pu6-dckG_u"
      },
      "outputs": [],
      "source": [
        "#@test {\"skip\": true}\n",
        "!pip install --quiet --upgrade tensorflow-federated\n",
        "!pip install --quiet --upgrade nest-asyncio\n",
        "\n",
        "import nest_asyncio\n",
        "nest_asyncio.apply()"
      ]
    },
    {
      "cell_type": "code",
      "execution_count": null,
      "metadata": {
        "id": "2txfde-th95B"
      },
      "outputs": [],
      "source": [
        "import collections\n",
        "import functools\n",
        "import io\n",
        "import os\n",
        "import requests\n",
        "import zipfile\n",
        "from typing import List, Optional, Tuple\n",
        "\n",
        "import matplotlib.pyplot as plt\n",
        "import numpy as np\n",
        "import pandas as pd\n",
        "import tensorflow as tf\n",
        "import tensorflow_federated as tff\n",
        "\n",
        "np.random.seed(42)"
      ]
    },
    {
      "cell_type": "markdown",
      "metadata": {
        "id": "229PrhyXaw_Y"
      },
      "source": [
        "## Background: Matrix Factorization\n",
        "\n",
        "[Matrix factorization](https://en.wikipedia.org/wiki/Matrix_factorization_(recommender_systems)) has been a historically popular technique for learning recommendations and embedding representations for items based on user interactions. The canonical example is movie recommendation, where there are $n$ users and $m$ movies, and users have rated some movies. Given a user, we use their rating history and the ratings of similar users to predict the user's ratings for movies they haven't seen. If we have a model that can predict ratings, it's easy to recommend users new movies that they'll enjoy.\n",
        "\n",
        "For this task, it's useful to represent users' ratings as an $n \\times m$ matrix $R$:\n",
        "\n",
        "![Matrix Factorization Motivation (CC BY-SA 3.0; Wikipedia User Moshanin)](https://upload.wikimedia.org/wikipedia/commons/5/52/Collaborative_filtering.gif)\n",
        "\n",
        "This matrix is generally sparse, since users typically only see a small fraction of the movies in the dataset. The output of matrix factorization is two matrices: an $n \\times k$ matrix $U$ representing $k$-dimensional user embeddings for each user, and an $m \\times k$ matrix $I$ representing $k$-dimensional item embeddings for each item. The simplest training objective is to ensure that the dot product of user and item embeddings are predictive of observed ratings $O$:\n",
        "\n",
        "$$argmin_{U,I}  \\sum_{(u, i) \\in O} (R_{ui} - U_u I_i^T)^2$$\n",
        "\n",
        "This is equivalent to minimizing the mean squared error between observed ratings and ratings predicted by taking the dot product of the corresponding user and item embeddings. Another way to interpret this is that this ensures that $R \\approx UI^T$ for known ratings, hence \"matrix factorization\". If this is confusing, don't worry–we won't need to know the details of matrix factorization for the rest of the tutorial."
      ]
    },
    {
      "cell_type": "markdown",
      "metadata": {
        "id": "7O37nOQRvAjw"
      },
      "source": [
        "## Exploring MovieLens Data\n",
        "\n",
        "Let's start by loading the [MovieLens 1M](https://grouplens.org/datasets/movielens/1m/) data, which consists of 1,000,209 movie ratings from 6040 users on 3706 movies."
      ]
    },
    {
      "cell_type": "code",
      "execution_count": null,
      "metadata": {
        "id": "DwxoBLaWneOE"
      },
      "outputs": [],
      "source": [
        "def download_movielens_data(dataset_path):\n",
        "  \"\"\"Downloads and copies MovieLens data to local /tmp directory.\"\"\"\n",
        "  if dataset_path.startswith('http'):\n",
        "    r = requests.get(dataset_path)\n",
        "    z = zipfile.ZipFile(io.BytesIO(r.content))\n",
        "    z.extractall(path='/tmp')\n",
        "  else:\n",
        "    tf.io.gfile.makedirs('/tmp/ml-1m/')\n",
        "    for filename in ['ratings.dat', 'movies.dat', 'users.dat']:\n",
        "      tf.io.gfile.copy(\n",
        "          os.path.join(dataset_path, filename),\n",
        "          os.path.join('/tmp/ml-1m/', filename),\n",
        "          overwrite=True)\n",
        "\n",
        "download_movielens_data('http://files.grouplens.org/datasets/movielens/ml-1m.zip')"
      ]
    },
    {
      "cell_type": "code",
      "execution_count": null,
      "metadata": {
        "id": "Y6_bskRUniqB"
      },
      "outputs": [],
      "source": [
        "def load_movielens_data(\n",
        "    data_directory: str = \"/tmp\",\n",
        ") -> Tuple[pd.DataFrame, pd.DataFrame]:\n",
        "  \"\"\"Loads pandas DataFrames for ratings, movies, users from data directory.\"\"\"\n",
        "  # Load pandas DataFrames from data directory. Assuming data is formatted as\n",
        "  # specified in http://files.grouplens.org/datasets/movielens/ml-1m-README.txt.\n",
        "  ratings_df = pd.read_csv(\n",
        "      os.path.join(data_directory, \"ml-1m\", \"ratings.dat\"),\n",
        "      sep=\"::\",\n",
        "      names=[\"UserID\", \"MovieID\", \"Rating\", \"Timestamp\"], engine=\"python\")\n",
        "  movies_df = pd.read_csv(\n",
        "      os.path.join(data_directory, \"ml-1m\", \"movies.dat\"),\n",
        "      sep=\"::\",\n",
        "      names=[\"MovieID\", \"Title\", \"Genres\"], engine=\"python\")\n",
        "\n",
        "  # Create dictionaries mapping from old IDs to new (remapped) IDs for both\n",
        "  # MovieID and UserID. Use the movies and users present in ratings_df to\n",
        "  # determine the mapping, since movies and users without ratings are unneeded.\n",
        "  movie_mapping = {\n",
        "      old_movie: new_movie for new_movie, old_movie in enumerate(\n",
        "          ratings_df.MovieID.astype(\"category\").cat.categories)\n",
        "  }\n",
        "  user_mapping = {\n",
        "      old_user: new_user for new_user, old_user in enumerate(\n",
        "          ratings_df.UserID.astype(\"category\").cat.categories)\n",
        "  }\n",
        "\n",
        "  # Map each DataFrame consistently using the now-fixed mapping.\n",
        "  ratings_df.MovieID = ratings_df.MovieID.map(movie_mapping)\n",
        "  ratings_df.UserID = ratings_df.UserID.map(user_mapping)\n",
        "  movies_df.MovieID = movies_df.MovieID.map(movie_mapping)\n",
        "\n",
        "  # Remove nulls resulting from some movies being in movies_df but not\n",
        "  # ratings_df.\n",
        "  movies_df = movies_df[pd.notnull(movies_df.MovieID)]\n",
        "\n",
        "  return ratings_df, movies_df"
      ]
    },
    {
      "cell_type": "markdown",
      "metadata": {
        "id": "nqVrh1o9t1cZ"
      },
      "source": [
        "Let's load and explore a couple Pandas DataFrames containing the rating and movie data."
      ]
    },
    {
      "cell_type": "code",
      "execution_count": null,
      "metadata": {
        "id": "OkAh5nt_n4ll"
      },
      "outputs": [],
      "source": [
        "ratings_df, movies_df = load_movielens_data()"
      ]
    },
    {
      "cell_type": "markdown",
      "metadata": {
        "id": "6aNtIwvNuP7v"
      },
      "source": [
        "We can see that each rating example has a rating from 1-5, a corresponding UserID, a corresponding MovieID, and a timestamp."
      ]
    },
    {
      "cell_type": "code",
      "execution_count": null,
      "metadata": {
        "id": "G4qap4n-C83I"
      },
      "outputs": [
        {
          "data": {
            "text/html": [
              "<div>\n",
              "<style scoped>\n",
              "    .dataframe tbody tr th:only-of-type {\n",
              "        vertical-align: middle;\n",
              "    }\n",
              "\n",
              "    .dataframe tbody tr th {\n",
              "        vertical-align: top;\n",
              "    }\n",
              "\n",
              "    .dataframe thead th {\n",
              "        text-align: right;\n",
              "    }\n",
              "</style>\n",
              "<table border=\"1\" class=\"dataframe\">\n",
              "  <thead>\n",
              "    <tr style=\"text-align: right;\">\n",
              "      <th></th>\n",
              "      <th>UserID</th>\n",
              "      <th>MovieID</th>\n",
              "      <th>Rating</th>\n",
              "      <th>Timestamp</th>\n",
              "    </tr>\n",
              "  </thead>\n",
              "  <tbody>\n",
              "    <tr>\n",
              "      <th>0</th>\n",
              "      <td>0</td>\n",
              "      <td>1104</td>\n",
              "      <td>5</td>\n",
              "      <td>978300760</td>\n",
              "    </tr>\n",
              "    <tr>\n",
              "      <th>1</th>\n",
              "      <td>0</td>\n",
              "      <td>639</td>\n",
              "      <td>3</td>\n",
              "      <td>978302109</td>\n",
              "    </tr>\n",
              "    <tr>\n",
              "      <th>2</th>\n",
              "      <td>0</td>\n",
              "      <td>853</td>\n",
              "      <td>3</td>\n",
              "      <td>978301968</td>\n",
              "    </tr>\n",
              "    <tr>\n",
              "      <th>3</th>\n",
              "      <td>0</td>\n",
              "      <td>3177</td>\n",
              "      <td>4</td>\n",
              "      <td>978300275</td>\n",
              "    </tr>\n",
              "    <tr>\n",
              "      <th>4</th>\n",
              "      <td>0</td>\n",
              "      <td>2162</td>\n",
              "      <td>5</td>\n",
              "      <td>978824291</td>\n",
              "    </tr>\n",
              "  </tbody>\n",
              "</table>\n",
              "</div>"
            ],
            "text/plain": [
              "   UserID  MovieID  Rating  Timestamp\n",
              "0       0     1104       5  978300760\n",
              "1       0      639       3  978302109\n",
              "2       0      853       3  978301968\n",
              "3       0     3177       4  978300275\n",
              "4       0     2162       5  978824291"
            ]
          },
          "execution_count": 7,
          "metadata": {},
          "output_type": "execute_result"
        }
      ],
      "source": [
        "ratings_df.head()"
      ]
    },
    {
      "cell_type": "markdown",
      "metadata": {
        "id": "5og9HO-ZubIJ"
      },
      "source": [
        "Each movie has a title and potentially multiple genres."
      ]
    },
    {
      "cell_type": "code",
      "execution_count": null,
      "metadata": {
        "id": "5TyN-30NC91Z"
      },
      "outputs": [
        {
          "data": {
            "text/html": [
              "<div>\n",
              "<style scoped>\n",
              "    .dataframe tbody tr th:only-of-type {\n",
              "        vertical-align: middle;\n",
              "    }\n",
              "\n",
              "    .dataframe tbody tr th {\n",
              "        vertical-align: top;\n",
              "    }\n",
              "\n",
              "    .dataframe thead th {\n",
              "        text-align: right;\n",
              "    }\n",
              "</style>\n",
              "<table border=\"1\" class=\"dataframe\">\n",
              "  <thead>\n",
              "    <tr style=\"text-align: right;\">\n",
              "      <th></th>\n",
              "      <th>MovieID</th>\n",
              "      <th>Title</th>\n",
              "      <th>Genres</th>\n",
              "    </tr>\n",
              "  </thead>\n",
              "  <tbody>\n",
              "    <tr>\n",
              "      <th>0</th>\n",
              "      <td>0.0</td>\n",
              "      <td>Toy Story (1995)</td>\n",
              "      <td>Animation|Children's|Comedy</td>\n",
              "    </tr>\n",
              "    <tr>\n",
              "      <th>1</th>\n",
              "      <td>1.0</td>\n",
              "      <td>Jumanji (1995)</td>\n",
              "      <td>Adventure|Children's|Fantasy</td>\n",
              "    </tr>\n",
              "    <tr>\n",
              "      <th>2</th>\n",
              "      <td>2.0</td>\n",
              "      <td>Grumpier Old Men (1995)</td>\n",
              "      <td>Comedy|Romance</td>\n",
              "    </tr>\n",
              "    <tr>\n",
              "      <th>3</th>\n",
              "      <td>3.0</td>\n",
              "      <td>Waiting to Exhale (1995)</td>\n",
              "      <td>Comedy|Drama</td>\n",
              "    </tr>\n",
              "    <tr>\n",
              "      <th>4</th>\n",
              "      <td>4.0</td>\n",
              "      <td>Father of the Bride Part II (1995)</td>\n",
              "      <td>Comedy</td>\n",
              "    </tr>\n",
              "  </tbody>\n",
              "</table>\n",
              "</div>"
            ],
            "text/plain": [
              "   MovieID                               Title                        Genres\n",
              "0      0.0                    Toy Story (1995)   Animation|Children's|Comedy\n",
              "1      1.0                      Jumanji (1995)  Adventure|Children's|Fantasy\n",
              "2      2.0             Grumpier Old Men (1995)                Comedy|Romance\n",
              "3      3.0            Waiting to Exhale (1995)                  Comedy|Drama\n",
              "4      4.0  Father of the Bride Part II (1995)                        Comedy"
            ]
          },
          "execution_count": 8,
          "metadata": {},
          "output_type": "execute_result"
        }
      ],
      "source": [
        "movies_df.head()"
      ]
    },
    {
      "cell_type": "markdown",
      "metadata": {
        "id": "YWsip1k5ue5B"
      },
      "source": [
        "It's always a good idea to understand basic statistics of the dataset:"
      ]
    },
    {
      "cell_type": "code",
      "execution_count": null,
      "metadata": {
        "id": "8I1jgmDOCqt4"
      },
      "outputs": [
        {
          "name": "stdout",
          "output_type": "stream",
          "text": [
            "Num users: 6040\n",
            "Num movies: 3706\n"
          ]
        }
      ],
      "source": [
        "print('Num users:', len(set(ratings_df.UserID)))\n",
        "print('Num movies:', len(set(ratings_df.MovieID)))"
      ]
    },
    {
      "cell_type": "code",
      "execution_count": null,
      "metadata": {
        "id": "1aO07Lg21Joa"
      },
      "outputs": [
        {
          "data": {
            "image/png": "[encoded data removed]",
            "text/plain": [
              "<Figure size 432x288 with 1 Axes>"
            ]
          },
          "metadata": {
            "needs_background": "light"
          },
          "output_type": "display_data"
        },
        {
          "name": "stdout",
          "output_type": "stream",
          "text": [
            "Average rating: 3.581564453029317\n",
            "Median rating: 4.0\n"
          ]
        }
      ],
      "source": [
        "ratings = ratings_df.Rating.tolist()\n",
        "\n",
        "plt.hist(ratings, bins=5)\n",
        "plt.xticks([1, 2, 3, 4, 5])\n",
        "plt.ylabel('Count')\n",
        "plt.xlabel('Rating')\n",
        "plt.show()\n",
        "\n",
        "print('Average rating:', np.mean(ratings))\n",
        "print('Median rating:', np.median(ratings))"
      ]
    },
    {
      "cell_type": "markdown",
      "metadata": {
        "id": "poMbHDQguqPA"
      },
      "source": [
        "We can also plot the most popular movie genres."
      ]
    },
    {
      "cell_type": "code",
      "execution_count": null,
      "metadata": {
        "id": "1gYdfRoOw04z"
      },
      "outputs": [
        {
          "data": {
            "image/png": "[encoded data removed]",
            "text/plain": [
              "<Figure size 792x792 with 1 Axes>"
            ]
          },
          "metadata": {},
          "output_type": "display_data"
        }
      ],
      "source": [
        "movie_genres_list = movies_df.Genres.tolist()\n",
        "# Count the number of times each genre describes a movie.\n",
        "genre_count = collections.defaultdict(int)\n",
        "for genres in movie_genres_list:\n",
        "  curr_genres_list = genres.split('|')\n",
        "  for genre in curr_genres_list:\n",
        "    genre_count[genre] += 1\n",
        "genre_name_list, genre_count_list = zip(*genre_count.items())\n",
        "\n",
        "plt.figure(figsize=(11, 11))\n",
        "plt.pie(genre_count_list, labels=genre_name_list)\n",
        "plt.title('MovieLens Movie Genres')\n",
        "plt.show()"
      ]
    },
    {
      "cell_type": "markdown",
      "metadata": {
        "id": "evWb8hg8vk-P"
      },
      "source": [
        "This data is naturally partitioned into ratings from different users, so we'd expect some heterogeneity in data between clients. Below we display the most commonly rated movie genres for different users. We can observe significant differences between users."
      ]
    },
    {
      "cell_type": "code",
      "execution_count": null,
      "metadata": {
        "id": "EfAeZ7f0GlSo"
      },
      "outputs": [
        {
          "name": "stdout",
          "output_type": "stream",
          "text": [
            "\n",
            "For user 0:\n",
            "Drama was rated 21 times\n",
            "Children's was rated 20 times\n",
            "Animation was rated 18 times\n",
            "Musical was rated 14 times\n",
            "Comedy was rated 14 times\n",
            "\n",
            "For user 10:\n",
            "Comedy was rated 84 times\n",
            "Drama was rated 54 times\n",
            "Romance was rated 22 times\n",
            "Thriller was rated 18 times\n",
            "Action was rated 9 times\n",
            "\n",
            "For user 19:\n",
            "Action was rated 17 times\n",
            "Sci-Fi was rated 9 times\n",
            "Thriller was rated 9 times\n",
            "Drama was rated 6 times\n",
            "Crime was rated 5 times\n"
          ]
        }
      ],
      "source": [
        "def print_top_genres_for_user(ratings_df, movies_df, user_id):\n",
        "  \"\"\"Prints top movie genres for user with ID user_id.\"\"\"\n",
        "  user_ratings_df = ratings_df[ratings_df.UserID == user_id]\n",
        "  movie_ids = user_ratings_df.MovieID\n",
        "\n",
        "  genre_count = collections.Counter()\n",
        "  for movie_id in movie_ids:\n",
        "    genres_string = movies_df[movies_df.MovieID == movie_id].Genres.tolist()[0]\n",
        "    for genre in genres_string.split('|'):\n",
        "      genre_count[genre] += 1\n",
        "\n",
        "  print(f'\\nFor user {user_id}:')\n",
        "  for (genre, freq) in genre_count.most_common(5):\n",
        "    print(f'{genre} was rated {freq} times')\n",
        "\n",
        "print_top_genres_for_user(ratings_df, movies_df, user_id=0)\n",
        "print_top_genres_for_user(ratings_df, movies_df, user_id=10)\n",
        "print_top_genres_for_user(ratings_df, movies_df, user_id=19)"
      ]
    },
    {
      "cell_type": "markdown",
      "metadata": {
        "id": "-p88NsfPwTOP"
      },
      "source": [
        "## Preprocessing MovieLens Data\n",
        "\n",
        "We'll now prepare the MovieLens dataset as a list of `tf.data.Dataset`s representing each user's data for use with TFF.\n",
        "\n",
        "We implement two functions:\n",
        "* `create_tf_datasets`: takes our ratings DataFrame and produces a list of user-split `tf.data.Dataset`s.\n",
        "* `split_tf_datasets`: takes a list of datasets and splits them into train/val/test by *user*, so the val/test sets contain only ratings from users **unseen** during training. Typically in standard centralized matrix factorization we actually split so that the val/test sets contain held-out ratings from **seen** users, since unseen users don't have user embeddings. In our case, we'll see later that the approach we use to enable matrix factorization in FL also enables quickly reconstructing user embeddings for unseen users."
      ]
    },
    {
      "cell_type": "code",
      "execution_count": null,
      "metadata": {
        "id": "DHwb2AsvtIwO"
      },
      "outputs": [],
      "source": [
        "def create_tf_datasets(ratings_df: pd.DataFrame,\n",
        "                       batch_size: int = 1,\n",
        "                       max_examples_per_user: Optional[int] = None,\n",
        "                       max_clients: Optional[int] = None) -> List[tf.data.Dataset]:\n",
        "  \"\"\"Creates TF Datasets containing the movies and ratings for all users.\"\"\"\n",
        "  num_users = len(set(ratings_df.UserID))\n",
        "  # Optionally limit to `max_clients` to speed up data loading.\n",
        "  if max_clients is not None:\n",
        "    num_users = min(num_users, max_clients)\n",
        "\n",
        "  def rating_batch_map_fn(rating_batch):\n",
        "    \"\"\"Maps a rating batch to an OrderedDict with tensor values.\"\"\"\n",
        "    # Each example looks like: {x: movie_id, y: rating}.\n",
        "    # We won't need the UserID since each client will only look at their own\n",
        "    # data.\n",
        "    return collections.OrderedDict([\n",
        "        (\"x\", tf.cast(rating_batch[:, 1:2], tf.int64)),\n",
        "        (\"y\", tf.cast(rating_batch[:, 2:3], tf.float32))\n",
        "    ])\n",
        "\n",
        "  tf_datasets = []\n",
        "  for user_id in range(num_users):\n",
        "    # Get subset of ratings_df belonging to a particular user.\n",
        "    user_ratings_df = ratings_df[ratings_df.UserID == user_id]\n",
        "\n",
        "    tf_dataset = tf.data.Dataset.from_tensor_slices(user_ratings_df)\n",
        "\n",
        "    # Define preprocessing operations.\n",
        "    tf_dataset = tf_dataset.take(max_examples_per_user).shuffle(\n",
        "        buffer_size=max_examples_per_user, seed=42).batch(batch_size).map(\n",
        "        rating_batch_map_fn,\n",
        "        num_parallel_calls=tf.data.experimental.AUTOTUNE)\n",
        "    tf_datasets.append(tf_dataset)\n",
        "\n",
        "  return tf_datasets\n",
        "\n",
        "\n",
        "def split_tf_datasets(\n",
        "    tf_datasets: List[tf.data.Dataset],\n",
        "    train_fraction: float = 0.8,\n",
        "    val_fraction: float = 0.1,\n",
        ") -> Tuple[List[tf.data.Dataset], List[tf.data.Dataset], List[tf.data.Dataset]]:\n",
        "  \"\"\"Splits a list of user TF datasets into train/val/test by user.\n",
        "  \"\"\"\n",
        "  np.random.seed(42)\n",
        "  np.random.shuffle(tf_datasets)\n",
        "\n",
        "  train_idx = int(len(tf_datasets) * train_fraction)\n",
        "  val_idx = int(len(tf_datasets) * (train_fraction + val_fraction))\n",
        "\n",
        "  # Note that the val and test data contains completely different users, not\n",
        "  # just unseen ratings from train users.\n",
        "  return (tf_datasets[:train_idx], tf_datasets[train_idx:val_idx],\n",
        "          tf_datasets[val_idx:])"
      ]
    },
    {
      "cell_type": "code",
      "execution_count": null,
      "metadata": {
        "id": "T6pJVpHfns9q"
      },
      "outputs": [],
      "source": [
        "# We limit the number of clients to speed up dataset creation. Feel free to pass\n",
        "# max_clients=None to load all clients' data.\n",
        "tf_datasets = create_tf_datasets(\n",
        "    ratings_df=ratings_df,\n",
        "    batch_size=5,\n",
        "    max_examples_per_user=300,\n",
        "    max_clients=2000)\n",
        "\n",
        "# Split the ratings into training/val/test by client.\n",
        "tf_train_datasets, tf_val_datasets, tf_test_datasets = split_tf_datasets(\n",
        "    tf_datasets,\n",
        "    train_fraction=0.8,\n",
        "    val_fraction=0.1)"
      ]
    },
    {
      "cell_type": "markdown",
      "metadata": {
        "id": "T2SdGARZ0-cm"
      },
      "source": [
        "As a quick check, we can print a batch of training data. We can see that each individual example contains a MovieID under the \"x\" key and a rating under the \"y\" key. Note that we won't need the UserID since each user only sees their own data."
      ]
    },
    {
      "cell_type": "code",
      "execution_count": null,
      "metadata": {
        "id": "9D2rCgcwFP4E"
      },
      "outputs": [
        {
          "name": "stdout",
          "output_type": "stream",
          "text": [
            "OrderedDict([('x', <tf.Tensor: shape=(5, 1), dtype=int64, numpy=\n",
            "array([[1907],\n",
            "       [2891],\n",
            "       [1574],\n",
            "       [2785],\n",
            "       [2775]])>), ('y', <tf.Tensor: shape=(5, 1), dtype=float32, numpy=\n",
            "array([[3.],\n",
            "       [3.],\n",
            "       [3.],\n",
            "       [4.],\n",
            "       [3.]], dtype=float32)>)])\n"
          ]
        }
      ],
      "source": [
        "print(next(iter(tf_train_datasets[0])))"
      ]
    },
    {
      "cell_type": "markdown",
      "metadata": {
        "id": "VOaSLuFK18G7"
      },
      "source": [
        "We can plot a histogram showing the number of ratings per user."
      ]
    },
    {
      "cell_type": "code",
      "execution_count": null,
      "metadata": {
        "id": "98VwSFBe1GPM"
      },
      "outputs": [
        {
          "data": {
            "image/png": "[encoded data removed]",
            "text/plain": [
              "<Figure size 432x288 with 1 Axes>"
            ]
          },
          "metadata": {
            "needs_background": "light"
          },
          "output_type": "display_data"
        }
      ],
      "source": [
        "def count_examples(curr_count, batch):\n",
        "  return curr_count + tf.size(batch['x'])\n",
        "\n",
        "num_examples_list = []\n",
        "# Compute number of examples for every other user.\n",
        "for i in range(0, len(tf_train_datasets), 2):\n",
        "  num_examples = tf_train_datasets[i].reduce(tf.constant(0), count_examples).numpy()\n",
        "  num_examples_list.append(num_examples)\n",
        "\n",
        "plt.hist(num_examples_list, bins=10)\n",
        "plt.ylabel('Count')\n",
        "plt.xlabel('Number of Examples')\n",
        "plt.show()"
      ]
    },
    {
      "cell_type": "markdown",
      "metadata": {
        "id": "eqz6oRm22FWM"
      },
      "source": [
        "Now that we've loaded and explored the data, we'll discuss how to bring matrix factorization to federated learning. Along the way, we'll motivate partially local federated learning."
      ]
    },
    {
      "cell_type": "markdown",
      "metadata": {
        "id": "PMZLj5WprMJM"
      },
      "source": [
        "## Bringing Matrix Factorization to FL\n",
        "\n",
        "While matrix factorization has been traditionally used in centralized settings, it's especially relevant in federated learning:  user ratings may live on separate client devices, and we may want to learn embeddings and recommendations for users and items without centralizing the data. Since each user has a corresponding user embedding, it's natural to have each client store their user embedding–this scales much better than a central server storing all the user embeddings.\n",
        "\n",
        "One proposal for bringing matrix factorization to FL goes as follows:\n",
        "1. The server stores and sends the item matrix $I$ to sampled clients each round\n",
        "2. Clients update the item matrix and their personal user embedding $U_u$ using SGD on the above objective\n",
        "3. Updates to $I$ are aggregated on the server, updating the server copy of $I$ for the next round\n",
        "\n",
        "This approach is *partially local*–that is, some client parameters are never aggregated by the server. Though this approach is appealing, it requires clients to maintain state across rounds, namely their user embeddings. Stateful federated algorithms are less appropriate for cross-device FL settings: in these settings the population size is often much larger than the number of clients that participate in each round, and a client usually participates at most once during the training process. Besides relying on state that may not be initialized, stateful algorithms can result in performance degradation in cross-device settings due to state getting *stale* when clients are infrequently sampled. Importantly, in the matrix factorization setting, a stateful algorithm leads to all unseen clients missing trained user embeddings, and in large-scale training the majority of users may be unseen. For more on the motivation for stateless algorithms in cross-device FL, see [Wang et al. 2021 Sec. 3.1.1](https://arxiv.org/pdf/2107.06917.pdf) and [Reddi et al. 2020 Sec. 5.1](https://arxiv.org/abs/2003.00295).\n",
        "\n",
        "Federated Reconstruction ([Singhal et al. 2021](https://arxiv.org/abs/2102.03448)) is a stateless alternative to the aforementioned approach. The key idea is that instead of storing user embeddings across rounds, clients reconstruct user embeddings when needed. When FedRecon is applied to matrix factorization, training proceeds as follows:\n",
        "1. The server stores and sends the item matrix $I$ to sampled clients each round\n",
        "2. Each client freezes $I$ and trains their user embedding $U_u$ using one or more steps of SGD (reconstruction)\n",
        "3. Each client freezes $U_u$ and trains $I$ using one or more steps of SGD\n",
        "4. Updates to $I$ are aggregated across users, updating the server copy of $I$ for the next round\n",
        "\n",
        "This approach does not require clients to maintain state across rounds. The authors also show in the paper that this method leads to fast reconstruction of user embeddings for unseen clients (Sec. 4.2, Fig. 3, and Table 1), allowing the majority of clients who do not participate in training to have a trained model, enabling recommendations for these clients. See the Federated Reconstruction [Google AI Blog post](https://ai.googleblog.com/2021/12/a-scalable-approach-for-partially-local.html) for more key results."
      ]
    },
    {
      "cell_type": "markdown",
      "metadata": {
        "id": "imwLf1zksCjN"
      },
      "source": [
        "## Defining the Model\n",
        "\n",
        "We'll next define the local matrix factorization model to be trained on client devices. This model will include the full item matrix $I$ and a single user embedding $U_u$ for client $u$. Note that clients will not need to store the full user matrix $U$.\n",
        "\n",
        "We'll define the following:\n",
        "- `UserEmbedding`: a simple Keras layer representing a single `num_latent_factors`-dimensional user embedding.\n",
        "- `get_matrix_factorization_model`: a function that returns a [`tff.learning.reconstruction.Model`](https://www.tensorflow.org/federated/api_docs/python/tff/learning/reconstruction/Model) containing the model logic, including which layers are globally aggregated on the server and which layers remain local. We need this additional information to initialize the Federated Reconstruction training process. Here we produce the `tff.learning.reconstruction.Model` from a Keras model using [`tff.learning.reconstruction.from_keras_model`](https://www.tensorflow.org/federated/api_docs/python/tff/learning/reconstruction/from_keras_model). Similar to `tff.learning.Model`, we can also implement a custom `tff.learning.reconstruction.Model` by implementing the class interface."
      ]
    },
    {
      "cell_type": "code",
      "execution_count": null,
      "metadata": {
        "id": "nSLMxPDP3D72"
      },
      "outputs": [],
      "source": [
        "class UserEmbedding(tf.keras.layers.Layer):\n",
        "  \"\"\"Keras layer representing an embedding for a single user, used below.\"\"\"\n",
        "\n",
        "  def __init__(self, num_latent_factors, **kwargs):\n",
        "    super().__init__(**kwargs)\n",
        "    self.num_latent_factors = num_latent_factors\n",
        "\n",
        "  def build(self, input_shape):\n",
        "    self.embedding = self.add_weight(\n",
        "        shape=(1, self.num_latent_factors),\n",
        "        initializer='uniform',\n",
        "        dtype=tf.float32,\n",
        "        name='UserEmbeddingKernel')\n",
        "    super().build(input_shape)\n",
        "\n",
        "  def call(self, inputs):\n",
        "    return self.embedding\n",
        "\n",
        "  def compute_output_shape(self):\n",
        "    return (1, self.num_latent_factors)\n",
        "\n",
        "\n",
        "def get_matrix_factorization_model(\n",
        "    num_items: int,\n",
        "    num_latent_factors: int) -> tff.learning.reconstruction.Model:\n",
        "  \"\"\"Defines a Keras matrix factorization model.\"\"\"\n",
        "  # Layers with variables will be partitioned into global and local layers.\n",
        "  # We'll pass this to `tff.learning.reconstruction.from_keras_model`.\n",
        "  global_layers = []\n",
        "  local_layers = []\n",
        "\n",
        "  # Extract the item embedding.\n",
        "  item_input = tf.keras.layers.Input(shape=[1], name='Item')\n",
        "  item_embedding_layer = tf.keras.layers.Embedding(\n",
        "      num_items,\n",
        "      num_latent_factors,\n",
        "      name='ItemEmbedding')\n",
        "  global_layers.append(item_embedding_layer)\n",
        "  flat_item_vec = tf.keras.layers.Flatten(name='FlattenItems')(\n",
        "      item_embedding_layer(item_input))\n",
        "\n",
        "  # Extract the user embedding.\n",
        "  user_embedding_layer = UserEmbedding(\n",
        "      num_latent_factors,\n",
        "      name='UserEmbedding')\n",
        "  local_layers.append(user_embedding_layer)\n",
        "\n",
        "  # The item_input never gets used by the user embedding layer,\n",
        "  # but this allows the model to directly use the user embedding.\n",
        "  flat_user_vec = user_embedding_layer(item_input)\n",
        "\n",
        "  # Compute the dot product between the user embedding, and the item one.\n",
        "  pred = tf.keras.layers.Dot(\n",
        "      1, normalize=False, name='Dot')([flat_user_vec, flat_item_vec])\n",
        "\n",
        "  input_spec = collections.OrderedDict(\n",
        "      x=tf.TensorSpec(shape=[None, 1], dtype=tf.int64),\n",
        "      y=tf.TensorSpec(shape=[None, 1], dtype=tf.float32))\n",
        "\n",
        "  model = tf.keras.Model(inputs=item_input, outputs=pred)\n",
        "\n",
        "  return tff.learning.reconstruction.from_keras_model(\n",
        "      keras_model=model,\n",
        "      global_layers=global_layers,\n",
        "      local_layers=local_layers,\n",
        "      input_spec=input_spec)"
      ]
    },
    {
      "cell_type": "markdown",
      "metadata": {
        "id": "-B3FPaRiwY3n"
      },
      "source": [
        "Analagous to the interface for Federated Averaging, the interface for Federated Reconstruction expects a `model_fn` with no arguments that returns a `tff.learning.reconstruction.Model`."
      ]
    },
    {
      "cell_type": "code",
      "execution_count": null,
      "metadata": {
        "id": "vNBRQW9EwneZ"
      },
      "outputs": [],
      "source": [
        "# This will be used to produce our training process.\n",
        "# User and item embeddings will be 50-dimensional.\n",
        "model_fn = functools.partial(\n",
        "    get_matrix_factorization_model,\n",
        "    num_items=3706,\n",
        "    num_latent_factors=50)"
      ]
    },
    {
      "cell_type": "markdown",
      "metadata": {
        "id": "fQVpVIfnwvPg"
      },
      "source": [
        "We'll next define `loss_fn` and `metrics_fn`, where `loss_fn` is a no-argument function returning a Keras loss to use to train the model, and `metrics_fn` is a no-argument function returning a list of Keras metrics for evaluation. These are needed to build the training and evaluation computations.\n",
        "\n",
        "We'll use Mean Squared Error as the loss, as mentioned above. For evaluation we'll use rating accuracy (when the model's predicted dot product is rounded to the nearest whole number, how often does it match the label rating?)."
      ]
    },
    {
      "cell_type": "code",
      "execution_count": null,
      "metadata": {
        "id": "FDJUfeSNwxIL"
      },
      "outputs": [],
      "source": [
        "class RatingAccuracy(tf.keras.metrics.Mean):\n",
        "  \"\"\"Keras metric computing accuracy of reconstructed ratings.\"\"\"\n",
        "\n",
        "  def __init__(self,\n",
        "               name: str = 'rating_accuracy',\n",
        "               **kwargs):\n",
        "    super().__init__(name=name, **kwargs)\n",
        "\n",
        "  def update_state(self,\n",
        "                   y_true: tf.Tensor,\n",
        "                   y_pred: tf.Tensor,\n",
        "                   sample_weight: Optional[tf.Tensor] = None):\n",
        "    absolute_diffs = tf.abs(y_true - y_pred)\n",
        "    # A [batch_size, 1] tf.bool tensor indicating correctness within the\n",
        "    # threshold for each example in a batch. A 0.5 threshold corresponds\n",
        "    # to correctness when predictions are rounded to the nearest whole\n",
        "    # number.\n",
        "    example_accuracies = tf.less_equal(absolute_diffs, 0.5)\n",
        "    super().update_state(example_accuracies, sample_weight=sample_weight)\n",
        "\n",
        "\n",
        "loss_fn = lambda: tf.keras.losses.MeanSquaredError()\n",
        "metrics_fn = lambda: [RatingAccuracy()]"
      ]
    },
    {
      "cell_type": "markdown",
      "metadata": {
        "id": "ecM_vru8xg2j"
      },
      "source": [
        "## Training and Evaluation\n",
        "\n",
        "Now we have everything we need to define the training process. One important difference from the [interface for Federated Averaging](https://www.tensorflow.org/federated/api_docs/python/tff/learning/algorithms/build_weighted_fed_avg) is that we now pass in a `reconstruction_optimizer_fn`, which will be used when reconstructing local parameters (in our case, user embeddings). It's generally reasonable to use `SGD` here, with a similar or slightly lower learning rate than the client optimizer learning rate. We provide a working configuration below. This hasn't been carefully tuned, so feel free to play around with different values.\n",
        "\n",
        "Check out the [documentation](https://www.tensorflow.org/federated/api_docs/python/tff/learning/reconstruction/build_training_process) for more details and options."
      ]
    },
    {
      "cell_type": "code",
      "execution_count": null,
      "metadata": {
        "id": "YQsX0FgtwsoE"
      },
      "outputs": [],
      "source": [
        "# We'll use this by doing:\n",
        "# state = training_process.initialize()\n",
        "# state, metrics = training_process.next(state, federated_train_data)\n",
        "training_process = tff.learning.reconstruction.build_training_process(\n",
        "    model_fn=model_fn,\n",
        "    loss_fn=loss_fn,\n",
        "    metrics_fn=metrics_fn,\n",
        "    server_optimizer_fn=lambda: tf.keras.optimizers.SGD(1.0),\n",
        "    client_optimizer_fn=lambda: tf.keras.optimizers.SGD(0.5),\n",
        "    reconstruction_optimizer_fn=lambda: tf.keras.optimizers.SGD(0.1))"
      ]
    },
    {
      "cell_type": "markdown",
      "metadata": {
        "id": "ssbbds4vzhXJ"
      },
      "source": [
        "We can also define a computation for evaluating our trained global model."
      ]
    },
    {
      "cell_type": "code",
      "execution_count": null,
      "metadata": {
        "id": "KHi7J330PtxO"
      },
      "outputs": [],
      "source": [
        "# We'll use this by doing:\n",
        "# eval_metrics = evaluation_computation(state.model, tf_val_datasets)\n",
        "# where `state` is the state from the training process above.\n",
        "evaluation_computation = tff.learning.reconstruction.build_federated_evaluation(\n",
        "    model_fn,\n",
        "    loss_fn=loss_fn,\n",
        "    metrics_fn=metrics_fn,\n",
        "    reconstruction_optimizer_fn=functools.partial(\n",
        "            tf.keras.optimizers.SGD, 0.1))"
      ]
    },
    {
      "cell_type": "markdown",
      "metadata": {
        "id": "h_V_ZwlE0DSl"
      },
      "source": [
        "We can initialize the training process state and examine it. Most importantly, we can see that this server state only stores item variables (currently randomly initialized) and not any user embeddings."
      ]
    },
    {
      "cell_type": "code",
      "execution_count": null,
      "metadata": {
        "id": "I_kOjFVKQoNX"
      },
      "outputs": [
        {
          "name": "stdout",
          "output_type": "stream",
          "text": [
            "ModelWeights(trainable=[array([[-0.02840446,  0.01196523, -0.01864688, ...,  0.03020107,\n",
            "         0.00121176,  0.00146852],\n",
            "       [ 0.01330637,  0.04741272, -0.01487445, ..., -0.03352419,\n",
            "         0.0104811 ,  0.03506917],\n",
            "       [-0.04132779,  0.04883525, -0.04799002, ...,  0.00246904,\n",
            "         0.00586842,  0.01506213],\n",
            "       ...,\n",
            "       [ 0.0216659 ,  0.00734354,  0.00471039, ...,  0.01596491,\n",
            "        -0.00220431, -0.01559857],\n",
            "       [-0.00319657, -0.01740328,  0.02808609, ..., -0.00501985,\n",
            "        -0.03850871, -0.03844522],\n",
            "       [ 0.03791947, -0.00035037,  0.04217024, ...,  0.00365371,\n",
            "         0.00283421,  0.00897921]], dtype=float32)], non_trainable=[])\n",
            "Item variables shape: (3706, 50)\n"
          ]
        }
      ],
      "source": [
        "state = training_process.initialize()\n",
        "print(state.model)\n",
        "print('Item variables shape:', state.model.trainable[0].shape)"
      ]
    },
    {
      "cell_type": "markdown",
      "metadata": {
        "id": "yPFqgTV21lJO"
      },
      "source": [
        "We can also try to evaluate our randomly initialized model on validation clients. Federated Reconstruction evaluation here involves the following:\n",
        "\n",
        "1. The server sends the item matrix $I$ to sampled evaluation clients\n",
        "2. Each client freezes $I$ and trains their user embedding $U_u$ using one or more steps of SGD (reconstruction)\n",
        "3. Each client calculates loss and metrics using the server $I$ and reconstructed $U_u$ on an unseen portion of their local data\n",
        "4. Losses and metrics are averaged across users to calculate overall loss and metrics\n",
        "\n",
        "Note that steps 1 and 2 are the same as for training. This connection is important, since training the same way we evaluate leads to a form of *meta-learning*, or learning how to learn. In this case, the model is learning how to learn global variables (item matrix) that lead to performant reconstruction of local variables (user embeddings). For more on this, see [Sec. 4.2](https://arxiv.org/abs/2102.03448) of the paper.\n",
        "\n",
        "It's also important for steps 2 and 3 to be performed using disjoint portions of clients' local data, to ensure fair evaluation. By default, both the training process and evaluation computation use every other example for reconstruction and use the other half post-reconstruction. This behavior can be customized using the `dataset_split_fn` argument (we'll explore this further later)."
      ]
    },
    {
      "cell_type": "code",
      "execution_count": null,
      "metadata": {
        "id": "JiBOGFsWWBiU"
      },
      "outputs": [
        {
          "name": "stdout",
          "output_type": "stream",
          "text": [
            "Initial Eval: OrderedDict([('loss', 14.340279), ('rating_accuracy', 0.0)])\n"
          ]
        }
      ],
      "source": [
        "# We shouldn't expect good evaluation results here, since we haven't trained\n",
        "# yet!\n",
        "eval_metrics = evaluation_computation(state.model, tf_val_datasets)\n",
        "print('Initial Eval:', eval_metrics['eval'])"
      ]
    },
    {
      "cell_type": "markdown",
      "metadata": {
        "id": "aZUZwjWp4iJu"
      },
      "source": [
        "We can next try running a round of training. To make things more realistic, we'll sample 50 clients per round randomly without replacement. We should still expect train metrics to be poor, since we're only doing one round of training."
      ]
    },
    {
      "cell_type": "code",
      "execution_count": null,
      "metadata": {
        "id": "lOTfqrVcVfJf"
      },
      "outputs": [
        {
          "name": "stdout",
          "output_type": "stream",
          "text": [
            "Train metrics: OrderedDict([('rating_accuracy', 0.0), ('loss', 14.317455)])\n"
          ]
        }
      ],
      "source": [
        "federated_train_data = np.random.choice(tf_train_datasets, size=50, replace=False).tolist()\n",
        "state, metrics = training_process.next(state, federated_train_data)\n",
        "print(f'Train metrics:', metrics['train'])"
      ]
    },
    {
      "cell_type": "markdown",
      "metadata": {
        "id": "Rr3ZS9jz5Mj0"
      },
      "source": [
        "Now let's set up a training loop to train over multiple rounds."
      ]
    },
    {
      "cell_type": "code",
      "execution_count": null,
      "metadata": {
        "id": "VJBzOPNYwp9q"
      },
      "outputs": [
        {
          "name": "stdout",
          "output_type": "stream",
          "text": [
            "Train round 0: OrderedDict([('rating_accuracy', 0.0), ('loss', 14.7013445)])\n",
            "Train round 1: OrderedDict([('rating_accuracy', 0.0), ('loss', 14.459233)])\n",
            "Train round 2: OrderedDict([('rating_accuracy', 0.0), ('loss', 14.52466)])\n",
            "Train round 3: OrderedDict([('rating_accuracy', 0.0), ('loss', 14.087793)])\n",
            "Train round 4: OrderedDict([('rating_accuracy', 0.011243612), ('loss', 11.110232)])\n",
            "Train round 5: OrderedDict([('rating_accuracy', 0.06366048), ('loss', 8.267054)])\n",
            "Train round 6: OrderedDict([('rating_accuracy', 0.12331288), ('loss', 5.2693872)])\n",
            "Train round 7: OrderedDict([('rating_accuracy', 0.14264487), ('loss', 5.1511016)])\n",
            "Train round 8: OrderedDict([('rating_accuracy', 0.21046545), ('loss', 3.8246362)])\n",
            "Train round 9: OrderedDict([('rating_accuracy', 0.21320973), ('loss', 3.303812)])\n",
            "Train round 10: OrderedDict([('rating_accuracy', 0.21651311), ('loss', 3.4864292)])\n",
            "Train round 11: OrderedDict([('rating_accuracy', 0.23476052), ('loss', 3.0105433)])\n",
            "Train round 12: OrderedDict([('rating_accuracy', 0.21981856), ('loss', 3.1807854)])\n",
            "Train round 13: OrderedDict([('rating_accuracy', 0.27683082), ('loss', 2.3382564)])\n",
            "Train round 14: OrderedDict([('rating_accuracy', 0.26080742), ('loss', 2.7009728)])\n",
            "Train round 15: OrderedDict([('rating_accuracy', 0.2733109), ('loss', 2.2993557)])\n",
            "Train round 16: OrderedDict([('rating_accuracy', 0.29282996), ('loss', 2.5278995)])\n",
            "Train round 17: OrderedDict([('rating_accuracy', 0.30204678), ('loss', 2.060092)])\n",
            "Train round 18: OrderedDict([('rating_accuracy', 0.2940266), ('loss', 2.0976772)])\n",
            "Train round 19: OrderedDict([('rating_accuracy', 0.3086304), ('loss', 2.0626144)])\n",
            "Final Eval: OrderedDict([('loss', 1.9961331), ('rating_accuracy', 0.30322924)])\n"
          ]
        }
      ],
      "source": [
        "NUM_ROUNDS = 20\n",
        "\n",
        "train_losses = []\n",
        "train_accs = []\n",
        "\n",
        "state = training_process.initialize()\n",
        "\n",
        "# This may take a couple minutes to run.\n",
        "for i in range(NUM_ROUNDS):\n",
        "  federated_train_data = np.random.choice(tf_train_datasets, size=50, replace=False).tolist()\n",
        "  state, metrics = training_process.next(state, federated_train_data)\n",
        "  print(f'Train round {i}:', metrics['train'])\n",
        "  train_losses.append(metrics['train']['loss'])\n",
        "  train_accs.append(metrics['train']['rating_accuracy'])\n",
        "\n",
        "\n",
        "eval_metrics = evaluation_computation(state.model, tf_val_datasets)\n",
        "print('Final Eval:', eval_metrics['eval'])"
      ]
    },
    {
      "cell_type": "markdown",
      "metadata": {
        "id": "yM-jAGNm5di7"
      },
      "source": [
        "We can plot training loss and accuracy over rounds. The hyperparameters in this notebook have not been carefully tuned, so feel free to try different clients per round, learning rates, number of rounds, and total number of clients to improve these results."
      ]
    },
    {
      "cell_type": "code",
      "execution_count": null,
      "metadata": {
        "id": "h6w702JmR-3V"
      },
      "outputs": [
        {
          "data": {
            "image/png": "iVBORw0KGgoAAAANSUhEUgAAAX4AAAEWCAYAAABhffzLAAAABHNCSVQICAgIfAhkiAAAAAlwSFlzAAALEgAACxIB0t1+/AAAADh0RVh0U29mdHdhcmUAbWF0cGxvdGxpYiB2ZXJzaW9uMy4yLjIsIGh0dHA6Ly9tYXRwbG90bGliLm9yZy+WH4yJAAAgAElEQVR4nO3dd3xcd5nv8c+jLluyZFmyVVxkOy6Ji1yU3iCNFDtxgCXhUhJaFnZDZynLXtrdvXcpy2ZZdoEESIEkhLIJsdNITwikuNtJ3OK4qrrIkmz1ee4fcwyyYtmypZmjmfm+X695zZlzzsx5dDT6ztHvnPn9zN0REZHUkRZ2ASIiEl8KfhGRFKPgFxFJMQp+EZEUo+AXEUkxCn4RkRSj4Bc5CjN7xMxuCLsOkVgwXccvycLMWns9HAF0AD3B479197vjVMc24KPu/kQ8tidyojLCLkBkqLh73uHpY4WvmWW4e3c8axMZTtTUI0nPzN5mZrvM7EtmVgfcbmajzWyZmTWa2f5genyv5zxjZh8Npm80sz+a2feCdd80sytOoo5sM7vFzGqC2y1mlh0sKw5qaDKzfWb2vJmlBcu+ZGa7zazFzDaa2cVDtGskRSn4JVWUAkXAJOAmou/924PHE4E24IfHeP6ZwEagGPgO8DMzsxOs4avAWcA8oAo4A/inYNnngV1ACTAO+EfAzWwGcDNwurvnA+8Atp3gdkWOoOCXVBEBvu7uHe7e5u573f137n7I3VuAfwEuPMbzt7v7be7eA9wJlBEN6BPxPuBb7t7g7o3AN4EPBMu6gtec5O5d7v68R0/A9QDZwGlmlunu29z9jRPcrsgRFPySKhrdvf3wAzMbYWY/MbPtZtYMPAcUmll6P8+vOzzh7oeCybx+1u1PObC91+PtwTyA7wJbgD+Y2VYz+3KwrS3AZ4BvAA1m9iszK0dkEBT8kir6Xr72eWAGcKa7jwIuCOafaPPNiagh2rR02MRgHu7e4u6fd/cpwNXA5w635bv7Pe5+XvBcB74dwxolBSj4JVXlE23XbzKzIuDrQ/z6mWaW0+uWAdwL/JOZlZhZMfA14JcAZrbIzE4JzhscINrEEzGzGWZ2UXASuD2oOTLEtUqKUfBLqroFyAX2AC8Cjw7x6z9MNKQP374B/DOwHFgLrANWBvMApgFPAK3An4H/dvenibbv/2tQZx0wFvjKENcqKUZf4BIRSTE64hcRSTEKfhGRFKPgFxFJMQp+EZEUkxCdtBUXF3tlZWXYZYiIJJQVK1bscfeSvvMTIvgrKytZvnx52GWIiCQUM9t+tPlq6hERSTEKfhGRFKPgFxFJMQp+EZEUo+AXEUkxCn4RkRSj4BcRSTEJcR3/yXpqQz1bGlo5vbKI2RUFZKbrc05EJKmD/5mNjdz15+j3F3Iy05g/YTSnV47m9MlFzJ84mrzspP7xRUSOKiH646+urvaT/eZuQ3M7y7fv55Vt+3hl2z5eq2km4pCeZpxWNorqytGcUVlEdWURJfnZQ1y5iEh4zGyFu1e/ZX6yB39frR3drNy+n+Xb9vHytn2s3tlEe1d0JLvJxSM5vXI01ZVFnFFZxKQxI4iOhPdXkYjT0tFNc1sXB9q6aG7rorm9i+a27ujj9q6/LmvvZmR2BtefPoFzpo55y2uJiMSSgr8fnd0R1tcciH4QvLmf5dv30XSoC4DivGymlIyktb2b5vZomLd2dHOsXWYGo3IyKcjNZFRuBjVN7ew72Mn0cXl88OxK3rmgghFZamISkdhT8A9QJOK80djKK9uizUO797cxKjeDUTmZjMoNbjkZQbBnHhHyBbmZjMzKIC3tr0.29.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\n",
            "text/plain": [
              "<Figure size 432x288 with 1 Axes>"
            ]
          },
          "metadata": {
            "needs_background": "light"
          },
          "output_type": "display_data"
        },
        {
          "data": {
            "image/png": "[encoded data removed]",
            "text/plain": [
              "<Figure size 432x288 with 1 Axes>"
            ]
          },
          "metadata": {
            "needs_background": "light"
          },
          "output_type": "display_data"
        }
      ],
      "source": [
        "plt.plot(range(NUM_ROUNDS), train_losses)\n",
        "plt.ylabel('Train Loss')\n",
        "plt.xlabel('Round')\n",
        "plt.title('Train Loss')\n",
        "plt.show()\n",
        "\n",
        "plt.plot(range(NUM_ROUNDS), train_accs)\n",
        "plt.ylabel('Train Accuracy')\n",
        "plt.xlabel('Round')\n",
        "plt.title('Train Accuracy')\n",
        "plt.show()"
      ]
    },
    {
      "cell_type": "markdown",
      "metadata": {
        "id": "ZTzKkT-a5kgX"
      },
      "source": [
        "Finally, we can calculate metrics on an unseen test set when we're finished tuning."
      ]
    },
    {
      "cell_type": "code",
      "execution_count": null,
      "metadata": {
        "id": "Iq0UxEBBJcR-"
      },
      "outputs": [
        {
          "name": "stdout",
          "output_type": "stream",
          "text": [
            "Final Test: OrderedDict([('loss', 1.9566978), ('rating_accuracy', 0.30792442)])\n"
          ]
        }
      ],
      "source": [
        "eval_metrics = evaluation_computation(state.model, tf_test_datasets)\n",
        "print('Final Test:', eval_metrics['eval'])"
      ]
    },
    {
      "cell_type": "markdown",
      "metadata": {
        "id": "Mr2fRxic6Lfi"
      },
      "source": [
        "## Further Explorations\n",
        "\n",
        "Nice work on completing this notebook. We suggest the following exercises to explore partially local federated learning further, roughly ordered by increasing difficulty:\n",
        "\n",
        "* Typical implementations of Federated Averaging take multiple local passes (epochs) over the data (in addition to taking one pass over the data across multiple batches). For Federated Reconstruction we may want to control the number of steps separately for reconstruction and post-reconstruction training. Passing the `dataset_split_fn` argument to the training and evaluation computation builders enables control of the number of steps and epochs over both reconstruction and post-reconstruction datasets. As an exercise, try performing 3 local epochs of reconstruction training, capped at 50 steps and 1 local epoch of post-reconstruction training, capped at 50 steps. Hint: you'll find [`tff.learning.reconstruction.build_dataset_split_fn`](https://www.tensorflow.org/federated/api_docs/python/tff/learning/reconstruction/build_dataset_split_fn) helpful. Once you've done this, try tuning these hyperparameters and other related ones like learning rates and batch size to get better results.\n",
        "\n",
        "* The default behavior of Federated Reconstruction training and evaluation is to split clients' local data in half for each of reconstruction and post-reconstruction. In cases where clients have very little local data, it can be reasonable to reuse data for reconstruction and post-reconstruction for the training process only (not for evaluation, this will lead to unfair evaluation). Try making this change for the training process, ensuring the `dataset_split_fn` for evaluation still keeps reconstruction and post-reconstruction data disjoint. Hint: [`tff.learning.reconstruction.simple_dataset_split_fn`](https://www.tensorflow.org/federated/api_docs/python/tff/learning/reconstruction/simple_dataset_split_fn) might be useful.\n",
        "\n",
        "* Above, we produced a `tff.learning.Model` from a Keras model using `tff.learning.reconstruction.from_keras_model`. We can also implement a custom model using pure TensorFlow 2.0 by [implementing the model interface](https://www.tensorflow.org/federated/api_docs/python/tff/learning/reconstruction/Model). Try modifying `get_matrix_factorization_model` to build and return a class that extends `tff.learning.reconstruction.Model`, implementing its methods. Hint: the source code of [`tff.learning.reconstruction.from_keras_model`](https://www.tensorflow.org/federated/api_docs/python/tff/learning/reconstruction/from_keras_model) provides an example of extending the `tff.learning.reconstruction.Model` class. Refer also to the [custom model implementation in the EMNIST image classification tutorial](https://www.tensorflow.org/federated/tutorials/federated_learning_for_image_classification#customizing_the_model_implementation) for a similar exercise in extending a `tff.learning.Model`.\n",
        "\n",
        "* In this tutorial, we've motivated partially local federated learning in the context of matrix factorization, where sending user embeddings to the server would trivially leak user preferences. We can also apply Federated Reconstruction in other settings as a way to train more personal models (since part of the model is completely local to each user) while reducing communication (since local parameters are not sent to the server). In general, using the interface presented here we can take any federated model that would typically be trained fully globally and instead partition its variables into global variables and local variables. The example explored in the [Federated Reconstruction paper](https://arxiv.org/abs/2102.03448) is personal next word prediction: here, each user has their own local set of word embeddings for out-of-vocabulary words, enabling the model to capture users' slang and achieve personalization without additional communication. As an exercise, try implementing (as either a Keras model or a custom TensorFlow 2.0 model) a different model for use with Federated Reconstruction. A suggestion: implement an EMNIST classification model with a personal user embedding, where the personal user embedding is concatenated to the CNN image features before the last Dense layer of the model. You can reuse much of the code from this tutorial (e.g. the `UserEmbedding` class) and the [image classification tutorial](https://www.tensorflow.org/federated/tutorials/federated_learning_for_image_classification).\n",
        "\n",
        "\\\n",
        "If you're still looking for more on partially local federated learning, check out the [Federated Reconstruction paper](https://arxiv.org/abs/2102.03448) and [open-source experiment code](https://github.com/google-research/federated/tree/master/reconstruction)."
      ]
    }
  ],
  "metadata": {
    "colab": {
      "collapsed_sections": [],
      "name": "federated_reconstruction_for_matrix_factorization.ipynb",
      "toc_visible": true
    },
    "kernelspec": {
      "display_name": "Python 3",
      "name": "python3"
    }
  },
  "nbformat": 4,
  "nbformat_minor": 0
}
