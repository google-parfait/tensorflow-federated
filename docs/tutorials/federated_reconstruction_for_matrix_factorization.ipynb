{
  "cells": [
    {
      "cell_type": "markdown",
      "metadata": {
        "id": "qN8P0AnTnAhh"
      },
      "source": [
        "##### Copyright 2021 The TensorFlow Authors."
      ]
    },
    {
      "cell_type": "code",
      "execution_count": null,
      "metadata": {
        "cellView": "form",
        "id": "p8SrVqkmnDQv"
      },
      "outputs": [],
      "source": [
        "#@title Licensed under the Apache License, Version 2.0 (the \"License\");\n",
        "# you may not use this file except in compliance with the License.\n",
        "# You may obtain a copy of the License at\n",
        "#\n",
        "# https://www.apache.org/licenses/LICENSE-2.0\n",
        "#\n",
        "# Unless required by applicable law or agreed to in writing, software\n",
        "# distributed under the License is distributed on an \"AS IS\" BASIS,\n",
        "# WITHOUT WARRANTIES OR CONDITIONS OF ANY KIND, either express or implied.\n",
        "# See the License for the specific language governing permissions and\n",
        "# limitations under the License."
      ]
    },
    {
      "cell_type": "markdown",
      "metadata": {
        "id": "AftvNA5VMemJ"
      },
      "source": [
        "# Federated Reconstruction for Matrix Factorization"
      ]
    },
    {
      "cell_type": "markdown",
      "metadata": {
        "id": "coAumH42q9nz"
      },
      "source": [
        "\u003ctable class=\"tfo-notebook-buttons\" align=\"left\"\u003e\n",
        "  \u003ctd\u003e\n",
        "    \u003ca target=\"_blank\" href=\"https://www.tensorflow.org/federated/tutorials/federated_reconstruction_for_matrix_factorization\"\u003e\u003cimg src=\"https://www.tensorflow.org/images/tf_logo_32px.png\" /\u003eView on TensorFlow.org\u003c/a\u003e\n",
        "  \u003c/td\u003e\n",
        "  \u003ctd\u003e\n",
        "    \u003ca target=\"_blank\" href=\"https://colab.research.google.com/github/tensorflow/federated/blob/v0.89.0/docs/tutorials/federated_reconstruction_for_matrix_factorization.ipynb\"\u003e\u003cimg src=\"https://www.tensorflow.org/images/colab_logo_32px.png\" /\u003eRun in Google Colab\u003c/a\u003e\n",
        "  \u003c/td\u003e\n",
        "  \u003ctd\u003e\n",
        "    \u003ca target=\"_blank\" href=\"https://github.com/tensorflow/federated/blob/v0.89.0/docs/tutorials/federated_reconstruction_for_matrix_factorization.ipynb\"\u003e\u003cimg src=\"https://www.tensorflow.org/images/GitHub-Mark-32px.png\" /\u003eView source on GitHub\u003c/a\u003e\n",
        "  \u003c/td\u003e\n",
        "  \u003ctd\u003e\n",
        "    \u003ca href=\"https://storage.googleapis.com/tensorflow_docs/federated/docs/tutorials/federated_reconstruction_for_matrix_factorization.ipynb\"\u003e\u003cimg src=\"https://www.tensorflow.org/images/download_logo_32px.png\" /\u003eDownload notebook\u003c/a\u003e\n",
        "  \u003c/td\u003e\n",
        "\u003c/table\u003e"
      ]
    },
    {
      "cell_type": "markdown",
      "metadata": {
        "id": "mxV9o4VmWNti"
      },
      "source": [
        "This tutorial explores *partially local federated learning*, where some client parameters are never aggregated on the server. This is useful for models with user-specific parameters (e.g. matrix factorization models) and for training in communication-limited settings. We build on concepts introduced in the [Federated Learning for Image Classification](https://www.tensorflow.org/federated/tutorials/federated_learning_for_image_classification) tutorial; as in that tutorial, we introduce high-level APIs in `tff.learning` for federated training and evaluation.\n",
        "\n",
        "We begin by motivating partially local federated learning for [matrix factorization](https://en.wikipedia.org/wiki/Matrix_factorization_(recommender_systems)). We describe Federated Reconstruction ([paper](https://arxiv.org/abs/2102.03448), [blog post](https://ai.googleblog.com/2021/12/a-scalable-approach-for-partially-local.html)), a practical algorithm for partially local federated learning at scale. We prepare the MovieLens 1M dataset, build a partially local model, and train and evaluate it."
      ]
    },
    {
      "cell_type": "code",
      "execution_count": null,
      "metadata": {
        "id": "I8pu6-dckG_u"
      },
      "outputs": [],
      "source": [
        "#@test {\"skip\": true}\n",
        "!pip install --quiet --upgrade tensorflow-federated\n",
        "!pip install --quiet --upgrade nest-asyncio\n",
        "\n",
        "import nest_asyncio\n",
        "nest_asyncio.apply()"
      ]
    },
    {
      "cell_type": "code",
      "execution_count": 1,
      "metadata": {
        "id": "2txfde-th95B"
      },
      "outputs": [],
      "source": [
        "import collections\n",
        "import functools\n",
        "import io\n",
        "import os\n",
        "import requests\n",
        "import zipfile\n",
        "from typing import List, Optional, Tuple\n",
        "\n",
        "import matplotlib.pyplot as plt\n",
        "import numpy as np\n",
        "import pandas as pd\n",
        "import tensorflow as tf\n",
        "import tensorflow_federated as tff\n",
        "\n",
        "np.random.seed(42)"
      ]
    },
    {
      "cell_type": "markdown",
      "metadata": {
        "id": "229PrhyXaw_Y"
      },
      "source": [
        "## Background: Matrix Factorization\n",
        "\n",
        "[Matrix factorization](https://en.wikipedia.org/wiki/Matrix_factorization_(recommender_systems)) has been a historically popular technique for learning recommendations and embedding representations for items based on user interactions. The canonical example is movie recommendation, where there are $n$ users and $m$ movies, and users have rated some movies. Given a user, we use their rating history and the ratings of similar users to predict the user's ratings for movies they haven't seen. If we have a model that can predict ratings, it's easy to recommend users new movies that they'll enjoy.\n",
        "\n",
        "For this task, it's useful to represent users' ratings as an $n \\times m$ matrix $R$:\n",
        "\n",
        "![Matrix Factorization Motivation (CC BY-SA 3.0; Wikipedia User Moshanin)](https://upload.wikimedia.org/wikipedia/commons/5/52/Collaborative_filtering.gif)\n",
        "\n",
        "This matrix is generally sparse, since users typically only see a small fraction of the movies in the dataset. The output of matrix factorization is two matrices: an $n \\times k$ matrix $U$ representing $k$-dimensional user embeddings for each user, and an $m \\times k$ matrix $I$ representing $k$-dimensional item embeddings for each item. The simplest training objective is to ensure that the dot product of user and item embeddings are predictive of observed ratings $O$:\n",
        "\n",
        "$$argmin_{U,I}  \\sum_{(u, i) \\in O} (R_{ui} - U_u I_i^T)^2$$\n",
        "\n",
        "This is equivalent to minimizing the mean squared error between observed ratings and ratings predicted by taking the dot product of the corresponding user and item embeddings. Another way to interpret this is that this ensures that $R \\approx UI^T$ for known ratings, hence \"matrix factorization\". If this is confusing, don't worry–we won't need to know the details of matrix factorization for the rest of the tutorial."
      ]
    },
    {
      "cell_type": "markdown",
      "metadata": {
        "id": "7O37nOQRvAjw"
      },
      "source": [
        "## Exploring MovieLens Data\n",
        "\n",
        "Let's start by loading the [MovieLens 1M](https://grouplens.org/datasets/movielens/1m/) data, which consists of 1,000,209 movie ratings from 6040 users on 3706 movies."
      ]
    },
    {
      "cell_type": "code",
      "execution_count": 2,
      "metadata": {
        "id": "DwxoBLaWneOE"
      },
      "outputs": [],
      "source": [
        "def download_movielens_data(dataset_path):\n",
        "  \"\"\"Downloads and copies MovieLens data to local /tmp directory.\"\"\"\n",
        "  if dataset_path.startswith('http'):\n",
        "    r = requests.get(dataset_path)\n",
        "    z = zipfile.ZipFile(io.BytesIO(r.content))\n",
        "    z.extractall(path='/tmp')\n",
        "  else:\n",
        "    tf.io.gfile.makedirs('/tmp/ml-1m/')\n",
        "    for filename in ['ratings.dat', 'movies.dat', 'users.dat']:\n",
        "      tf.io.gfile.copy(\n",
        "          os.path.join(dataset_path, filename),\n",
        "          os.path.join('/tmp/ml-1m/', filename),\n",
        "          overwrite=True)\n",
        "\n",
        "download_movielens_data('http://files.grouplens.org/datasets/movielens/ml-1m.zip')"
      ]
    },
    {
      "cell_type": "code",
      "execution_count": 3,
      "metadata": {
        "id": "Y6_bskRUniqB"
      },
      "outputs": [],
      "source": [
        "def load_movielens_data(\n",
        "    data_directory: str = \"/tmp\",\n",
        ") -\u003e Tuple[pd.DataFrame, pd.DataFrame]:\n",
        "  \"\"\"Loads pandas DataFrames for ratings, movies, users from data directory.\"\"\"\n",
        "  # Load pandas DataFrames from data directory. Assuming data is formatted as\n",
        "  # specified in http://files.grouplens.org/datasets/movielens/ml-1m-README.txt.\n",
        "  ratings_df = pd.read_csv(\n",
        "      os.path.join(data_directory, \"ml-1m\", \"ratings.dat\"),\n",
        "      sep=\"::\",\n",
        "      names=[\"UserID\", \"MovieID\", \"Rating\", \"Timestamp\"], engine=\"python\")\n",
        "  movies_df = pd.read_csv(\n",
        "      os.path.join(data_directory, \"ml-1m\", \"movies.dat\"),\n",
        "      sep=\"::\",\n",
        "      names=[\"MovieID\", \"Title\", \"Genres\"], engine=\"python\", \n",
        "      encoding = \"ISO-8859-1\")\n",
        "\n",
        "  # Create dictionaries mapping from old IDs to new (remapped) IDs for both\n",
        "  # MovieID and UserID. Use the movies and users present in ratings_df to\n",
        "  # determine the mapping, since movies and users without ratings are unneeded.\n",
        "  movie_mapping = {\n",
        "      old_movie: new_movie for new_movie, old_movie in enumerate(\n",
        "          ratings_df.MovieID.astype(\"category\").cat.categories)\n",
        "  }\n",
        "  user_mapping = {\n",
        "      old_user: new_user for new_user, old_user in enumerate(\n",
        "          ratings_df.UserID.astype(\"category\").cat.categories)\n",
        "  }\n",
        "\n",
        "  # Map each DataFrame consistently using the now-fixed mapping.\n",
        "  ratings_df.MovieID = ratings_df.MovieID.map(movie_mapping)\n",
        "  ratings_df.UserID = ratings_df.UserID.map(user_mapping)\n",
        "  movies_df.MovieID = movies_df.MovieID.map(movie_mapping)\n",
        "\n",
        "  # Remove nulls resulting from some movies being in movies_df but not\n",
        "  # ratings_df.\n",
        "  movies_df = movies_df[pd.notnull(movies_df.MovieID)]\n",
        "\n",
        "  return ratings_df, movies_df"
      ]
    },
    {
      "cell_type": "markdown",
      "metadata": {
        "id": "nqVrh1o9t1cZ"
      },
      "source": [
        "Let's load and explore a couple Pandas DataFrames containing the rating and movie data."
      ]
    },
    {
      "cell_type": "code",
      "execution_count": 4,
      "metadata": {
        "id": "OkAh5nt_n4ll"
      },
      "outputs": [],
      "source": [
        "ratings_df, movies_df = load_movielens_data()"
      ]
    },
    {
      "cell_type": "markdown",
      "metadata": {
        "id": "6aNtIwvNuP7v"
      },
      "source": [
        "We can see that each rating example has a rating from 1-5, a corresponding UserID, a corresponding MovieID, and a timestamp."
      ]
    },
    {
      "cell_type": "code",
      "execution_count": 5,
      "metadata": {
        "id": "G4qap4n-C83I"
      },
      "outputs": [
        {
          "data": {
            "text/html": [
              "\n",
              "  \u003cdiv id=\"df-0cbb8917-9b5c-4d30-afd5-c7310447c6d5\"\u003e\n",
              "    \u003cdiv class=\"colab-df-container\"\u003e\n",
              "      \u003cdiv\u003e\n",
              "\u003cstyle scoped\u003e\n",
              "    .dataframe tbody tr th:only-of-type {\n",
              "        vertical-align: middle;\n",
              "    }\n",
              "\n",
              "    .dataframe tbody tr th {\n",
              "        vertical-align: top;\n",
              "    }\n",
              "\n",
              "    .dataframe thead th {\n",
              "        text-align: right;\n",
              "    }\n",
              "\u003c/style\u003e\n",
              "\u003ctable border=\"1\" class=\"dataframe\"\u003e\n",
              "  \u003cthead\u003e\n",
              "    \u003ctr style=\"text-align: right;\"\u003e\n",
              "      \u003cth\u003e\u003c/th\u003e\n",
              "      \u003cth\u003eUserID\u003c/th\u003e\n",
              "      \u003cth\u003eMovieID\u003c/th\u003e\n",
              "      \u003cth\u003eRating\u003c/th\u003e\n",
              "      \u003cth\u003eTimestamp\u003c/th\u003e\n",
              "    \u003c/tr\u003e\n",
              "  \u003c/thead\u003e\n",
              "  \u003ctbody\u003e\n",
              "    \u003ctr\u003e\n",
              "      \u003cth\u003e0\u003c/th\u003e\n",
              "      \u003ctd\u003e0\u003c/td\u003e\n",
              "      \u003ctd\u003e1104\u003c/td\u003e\n",
              "      \u003ctd\u003e5\u003c/td\u003e\n",
              "      \u003ctd\u003e978300760\u003c/td\u003e\n",
              "    \u003c/tr\u003e\n",
              "    \u003ctr\u003e\n",
              "      \u003cth\u003e1\u003c/th\u003e\n",
              "      \u003ctd\u003e0\u003c/td\u003e\n",
              "      \u003ctd\u003e639\u003c/td\u003e\n",
              "      \u003ctd\u003e3\u003c/td\u003e\n",
              "      \u003ctd\u003e978302109\u003c/td\u003e\n",
              "    \u003c/tr\u003e\n",
              "    \u003ctr\u003e\n",
              "      \u003cth\u003e2\u003c/th\u003e\n",
              "      \u003ctd\u003e0\u003c/td\u003e\n",
              "      \u003ctd\u003e853\u003c/td\u003e\n",
              "      \u003ctd\u003e3\u003c/td\u003e\n",
              "      \u003ctd\u003e978301968\u003c/td\u003e\n",
              "    \u003c/tr\u003e\n",
              "    \u003ctr\u003e\n",
              "      \u003cth\u003e3\u003c/th\u003e\n",
              "      \u003ctd\u003e0\u003c/td\u003e\n",
              "      \u003ctd\u003e3177\u003c/td\u003e\n",
              "      \u003ctd\u003e4\u003c/td\u003e\n",
              "      \u003ctd\u003e978300275\u003c/td\u003e\n",
              "    \u003c/tr\u003e\n",
              "    \u003ctr\u003e\n",
              "      \u003cth\u003e4\u003c/th\u003e\n",
              "      \u003ctd\u003e0\u003c/td\u003e\n",
              "      \u003ctd\u003e2162\u003c/td\u003e\n",
              "      \u003ctd\u003e5\u003c/td\u003e\n",
              "      \u003ctd\u003e978824291\u003c/td\u003e\n",
              "    \u003c/tr\u003e\n",
              "  \u003c/tbody\u003e\n",
              "\u003c/table\u003e\n",
              "\u003c/div\u003e\n",
              "      \u003cbutton class=\"colab-df-convert\" onclick=\"convertToInteractive('df-0cbb8917-9b5c-4d30-afd5-c7310447c6d5')\"\n",
              "              title=\"Convert this dataframe to an interactive table.\"\n",
              "              style=\"display:none;\"\u003e\n",
              "        \n",
              "  \u003csvg xmlns=\"http://www.w3.org/2000/svg\" height=\"24px\"viewBox=\"0 0 24 24\"\n",
              "       width=\"24px\"\u003e\n",
              "    \u003cpath d=\"M0 0h24v24H0V0z\" fill=\"none\"/\u003e\n",
              "    \u003cpath d=\"M18.56 5.44l.94 2.06.94-2.06 2.06-.94-2.06-.94-.94-2.06-.94 2.06-2.06.94zm-11 1L8.5 8.5l.94-2.06 2.06-.94-2.06-.94L8.5 2.5l-.94 2.06-2.06.94zm10 10l.94 2.06.94-2.06 2.06-.94-2.06-.94-.94-2.06-.94 2.06-2.06.94z\"/\u003e\u003cpath d=\"M17.41 7.96l-1.37-1.37c-.4-.4-.92-.59-1.43-.59-.52 0-1.04.2-1.43.59L10.3 9.45l-7.72 7.72c-.78.78-.78 2.05 0 2.83L4 21.41c.39.39.9.59 1.41.59.51 0 1.02-.2 1.41-.59l7.78-7.78 2.81-2.81c.8-.78.8-2.07 0-2.86zM5.41 20L4 18.59l7.72-7.72 1.47 1.35L5.41 20z\"/\u003e\n",
              "  \u003c/svg\u003e\n",
              "      \u003c/button\u003e\n",
              "      \n",
              "  \n",
              "    \u003cdiv id=\"df-47374e1b-52da-49ae-a0e3-eaabc05a7671\"\u003e\n",
              "      \u003cbutton class=\"colab-df-quickchart\" onclick=\"quickchart('df-47374e1b-52da-49ae-a0e3-eaabc05a7671')\"\n",
              "              title=\"Generate charts.\"\n",
              "              style=\"display:none;\"\u003e\n",
              "        \n",
              "  \u003csvg xmlns=\"http://www.w3.org/2000/svg\" height=\"24px\"viewBox=\"0 0 24 24\"\n",
              "       width=\"24px\"\u003e\n",
              "      \u003cg\u003e\n",
              "          \u003cpath d=\"M19 3H5c-1.1 0-2 .9-2 2v14c0 1.1.9 2 2 2h14c1.1 0 2-.9 2-2V5c0-1.1-.9-2-2-2zM9 17H7v-7h2v7zm4 0h-2V7h2v10zm4 0h-2v-4h2v4z\"/\u003e\n",
              "      \u003c/g\u003e\n",
              "  \u003c/svg\u003e\n",
              "      \u003c/button\u003e\n",
              "    \u003c/div\u003e\n",
              "    \n",
              "  \u003cstyle\u003e\n",
              "    .colab-df-quickchart {\n",
              "      background-color: #E8F0FE;\n",
              "      border: none;\n",
              "      border-radius: 50%;\n",
              "      cursor: pointer;\n",
              "      display: none;\n",
              "      fill: #1967D2;\n",
              "      height: 32px;\n",
              "      padding: 0 0 0 0;\n",
              "      width: 32px;\n",
              "    }\n",
              "\n",
              "    .colab-df-quickchart:hover {\n",
              "      background-color: #E2EBFA;\n",
              "      box-shadow: 0px 1px 2px rgba(60, 64, 67, 0.3), 0px 1px 3px 1px rgba(60, 64, 67, 0.15);\n",
              "      fill: #174EA6;\n",
              "    }\n",
              "\n",
              "    [theme=dark] .colab-df-quickchart {\n",
              "      background-color: #3B4455;\n",
              "      fill: #D2E3FC;\n",
              "    }\n",
              "\n",
              "    [theme=dark] .colab-df-quickchart:hover {\n",
              "      background-color: #434B5C;\n",
              "      box-shadow: 0px 1px 3px 1px rgba(0, 0, 0, 0.15);\n",
              "      filter: drop-shadow(0px 1px 2px rgba(0, 0, 0, 0.3));\n",
              "      fill: #FFFFFF;\n",
              "    }\n",
              "\n",
              "    .colab-quickchart-section-title {\n",
              "        clear: both;\n",
              "    }\n",
              "  \u003c/style\u003e\n",
              "\n",
              "    \u003cscript\u003e\n",
              "      const quickchartButtonEl =\n",
              "        document.querySelector('#df-47374e1b-52da-49ae-a0e3-eaabc05a7671 button.colab-df-quickchart');\n",
              "      quickchartButtonEl.style.display =\n",
              "        google.colab.kernel.accessAllowed ? 'block' : 'none';\n",
              "\n",
              "      async function quickchart(key) {\n",
              "        const containerElement = document.querySelector('#df-47374e1b-52da-49ae-a0e3-eaabc05a7671');\n",
              "        const charts = await google.colab.kernel.invokeFunction(\n",
              "            'generateCharts', [key], {});\n",
              "      }\n",
              "    \u003c/script\u003e\n",
              "  \u003cstyle\u003e\n",
              "    .colab-df-container {\n",
              "      display:flex;\n",
              "      flex-wrap:wrap;\n",
              "      gap: 12px;\n",
              "    }\n",
              "\n",
              "    .colab-df-convert {\n",
              "      background-color: #E8F0FE;\n",
              "      border: none;\n",
              "      border-radius: 50%;\n",
              "      cursor: pointer;\n",
              "      display: none;\n",
              "      fill: #1967D2;\n",
              "      height: 32px;\n",
              "      padding: 0 0 0 0;\n",
              "      width: 32px;\n",
              "    }\n",
              "\n",
              "    .colab-df-convert:hover {\n",
              "      background-color: #E2EBFA;\n",
              "      box-shadow: 0px 1px 2px rgba(60, 64, 67, 0.3), 0px 1px 3px 1px rgba(60, 64, 67, 0.15);\n",
              "      fill: #174EA6;\n",
              "    }\n",
              "\n",
              "    [theme=dark] .colab-df-convert {\n",
              "      background-color: #3B4455;\n",
              "      fill: #D2E3FC;\n",
              "    }\n",
              "\n",
              "    [theme=dark] .colab-df-convert:hover {\n",
              "      background-color: #434B5C;\n",
              "      box-shadow: 0px 1px 3px 1px rgba(0, 0, 0, 0.15);\n",
              "      filter: drop-shadow(0px 1px 2px rgba(0, 0, 0, 0.3));\n",
              "      fill: #FFFFFF;\n",
              "    }\n",
              "  \u003c/style\u003e\n",
              "\n",
              "      \u003cscript\u003e\n",
              "        const buttonEl =\n",
              "          document.querySelector('#df-0cbb8917-9b5c-4d30-afd5-c7310447c6d5 button.colab-df-convert');\n",
              "        buttonEl.style.display =\n",
              "          google.colab.kernel.accessAllowed ? 'block' : 'none';\n",
              "\n",
              "        async function convertToInteractive(key) {\n",
              "          const element = document.querySelector('#df-0cbb8917-9b5c-4d30-afd5-c7310447c6d5');\n",
              "          const dataTable =\n",
              "            await google.colab.kernel.invokeFunction('convertToInteractive',\n",
              "                                                     [key], {});\n",
              "          if (!dataTable) return;\n",
              "\n",
              "          const docLinkHtml = 'Like what you see? Visit the ' +\n",
              "            '\u003ca target=\"_blank\" href=https://colab.research.google.com/notebooks/data_table.ipynb\u003edata table notebook\u003c/a\u003e'\n",
              "            + ' to learn more about interactive tables.';\n",
              "          element.innerHTML = '';\n",
              "          dataTable['output_type'] = 'display_data';\n",
              "          await google.colab.output.renderOutput(dataTable, element);\n",
              "          const docLink = document.createElement('div');\n",
              "          docLink.innerHTML = docLinkHtml;\n",
              "          element.appendChild(docLink);\n",
              "        }\n",
              "      \u003c/script\u003e\n",
              "    \u003c/div\u003e\n",
              "  \u003c/div\u003e\n",
              "  "
            ],
            "text/plain": [
              "   UserID  MovieID  Rating  Timestamp\n",
              "0       0     1104       5  978300760\n",
              "1       0      639       3  978302109\n",
              "2       0      853       3  978301968\n",
              "3       0     3177       4  978300275\n",
              "4       0     2162       5  978824291"
            ]
          },
          "execution_count": 5,
          "metadata": {},
          "output_type": "execute_result"
        }
      ],
      "source": [
        "ratings_df.head()"
      ]
    },
    {
      "cell_type": "markdown",
      "metadata": {
        "id": "5og9HO-ZubIJ"
      },
      "source": [
        "Each movie has a title and potentially multiple genres."
      ]
    },
    {
      "cell_type": "code",
      "execution_count": 6,
      "metadata": {
        "id": "5TyN-30NC91Z"
      },
      "outputs": [
        {
          "data": {
            "text/html": [
              "\n",
              "  \u003cdiv id=\"df-256412c5-ca12-40a8-87c3-5d09ba4b2301\"\u003e\n",
              "    \u003cdiv class=\"colab-df-container\"\u003e\n",
              "      \u003cdiv\u003e\n",
              "\u003cstyle scoped\u003e\n",
              "    .dataframe tbody tr th:only-of-type {\n",
              "        vertical-align: middle;\n",
              "    }\n",
              "\n",
              "    .dataframe tbody tr th {\n",
              "        vertical-align: top;\n",
              "    }\n",
              "\n",
              "    .dataframe thead th {\n",
              "        text-align: right;\n",
              "    }\n",
              "\u003c/style\u003e\n",
              "\u003ctable border=\"1\" class=\"dataframe\"\u003e\n",
              "  \u003cthead\u003e\n",
              "    \u003ctr style=\"text-align: right;\"\u003e\n",
              "      \u003cth\u003e\u003c/th\u003e\n",
              "      \u003cth\u003eMovieID\u003c/th\u003e\n",
              "      \u003cth\u003eTitle\u003c/th\u003e\n",
              "      \u003cth\u003eGenres\u003c/th\u003e\n",
              "    \u003c/tr\u003e\n",
              "  \u003c/thead\u003e\n",
              "  \u003ctbody\u003e\n",
              "    \u003ctr\u003e\n",
              "      \u003cth\u003e0\u003c/th\u003e\n",
              "      \u003ctd\u003e0.0\u003c/td\u003e\n",
              "      \u003ctd\u003eToy Story (1995)\u003c/td\u003e\n",
              "      \u003ctd\u003eAnimation|Children's|Comedy\u003c/td\u003e\n",
              "    \u003c/tr\u003e\n",
              "    \u003ctr\u003e\n",
              "      \u003cth\u003e1\u003c/th\u003e\n",
              "      \u003ctd\u003e1.0\u003c/td\u003e\n",
              "      \u003ctd\u003eJumanji (1995)\u003c/td\u003e\n",
              "      \u003ctd\u003eAdventure|Children's|Fantasy\u003c/td\u003e\n",
              "    \u003c/tr\u003e\n",
              "    \u003ctr\u003e\n",
              "      \u003cth\u003e2\u003c/th\u003e\n",
              "      \u003ctd\u003e2.0\u003c/td\u003e\n",
              "      \u003ctd\u003eGrumpier Old Men (1995)\u003c/td\u003e\n",
              "      \u003ctd\u003eComedy|Romance\u003c/td\u003e\n",
              "    \u003c/tr\u003e\n",
              "    \u003ctr\u003e\n",
              "      \u003cth\u003e3\u003c/th\u003e\n",
              "      \u003ctd\u003e3.0\u003c/td\u003e\n",
              "      \u003ctd\u003eWaiting to Exhale (1995)\u003c/td\u003e\n",
              "      \u003ctd\u003eComedy|Drama\u003c/td\u003e\n",
              "    \u003c/tr\u003e\n",
              "    \u003ctr\u003e\n",
              "      \u003cth\u003e4\u003c/th\u003e\n",
              "      \u003ctd\u003e4.0\u003c/td\u003e\n",
              "      \u003ctd\u003eFather of the Bride Part II (1995)\u003c/td\u003e\n",
              "      \u003ctd\u003eComedy\u003c/td\u003e\n",
              "    \u003c/tr\u003e\n",
              "  \u003c/tbody\u003e\n",
              "\u003c/table\u003e\n",
              "\u003c/div\u003e\n",
              "      \u003cbutton class=\"colab-df-convert\" onclick=\"convertToInteractive('df-256412c5-ca12-40a8-87c3-5d09ba4b2301')\"\n",
              "              title=\"Convert this dataframe to an interactive table.\"\n",
              "              style=\"display:none;\"\u003e\n",
              "        \n",
              "  \u003csvg xmlns=\"http://www.w3.org/2000/svg\" height=\"24px\"viewBox=\"0 0 24 24\"\n",
              "       width=\"24px\"\u003e\n",
              "    \u003cpath d=\"M0 0h24v24H0V0z\" fill=\"none\"/\u003e\n",
              "    \u003cpath d=\"M18.56 5.44l.94 2.06.94-2.06 2.06-.94-2.06-.94-.94-2.06-.94 2.06-2.06.94zm-11 1L8.5 8.5l.94-2.06 2.06-.94-2.06-.94L8.5 2.5l-.94 2.06-2.06.94zm10 10l.94 2.06.94-2.06 2.06-.94-2.06-.94-.94-2.06-.94 2.06-2.06.94z\"/\u003e\u003cpath d=\"M17.41 7.96l-1.37-1.37c-.4-.4-.92-.59-1.43-.59-.52 0-1.04.2-1.43.59L10.3 9.45l-7.72 7.72c-.78.78-.78 2.05 0 2.83L4 21.41c.39.39.9.59 1.41.59.51 0 1.02-.2 1.41-.59l7.78-7.78 2.81-2.81c.8-.78.8-2.07 0-2.86zM5.41 20L4 18.59l7.72-7.72 1.47 1.35L5.41 20z\"/\u003e\n",
              "  \u003c/svg\u003e\n",
              "      \u003c/button\u003e\n",
              "      \n",
              "  \n",
              "    \u003cdiv id=\"df-4e0745aa-6f4e-4e38-b1f8-a1484569d13d\"\u003e\n",
              "      \u003cbutton class=\"colab-df-quickchart\" onclick=\"quickchart('df-4e0745aa-6f4e-4e38-b1f8-a1484569d13d')\"\n",
              "              title=\"Generate charts.\"\n",
              "              style=\"display:none;\"\u003e\n",
              "        \n",
              "  \u003csvg xmlns=\"http://www.w3.org/2000/svg\" height=\"24px\"viewBox=\"0 0 24 24\"\n",
              "       width=\"24px\"\u003e\n",
              "      \u003cg\u003e\n",
              "          \u003cpath d=\"M19 3H5c-1.1 0-2 .9-2 2v14c0 1.1.9 2 2 2h14c1.1 0 2-.9 2-2V5c0-1.1-.9-2-2-2zM9 17H7v-7h2v7zm4 0h-2V7h2v10zm4 0h-2v-4h2v4z\"/\u003e\n",
              "      \u003c/g\u003e\n",
              "  \u003c/svg\u003e\n",
              "      \u003c/button\u003e\n",
              "    \u003c/div\u003e\n",
              "    \n",
              "  \u003cstyle\u003e\n",
              "    .colab-df-quickchart {\n",
              "      background-color: #E8F0FE;\n",
              "      border: none;\n",
              "      border-radius: 50%;\n",
              "      cursor: pointer;\n",
              "      display: none;\n",
              "      fill: #1967D2;\n",
              "      height: 32px;\n",
              "      padding: 0 0 0 0;\n",
              "      width: 32px;\n",
              "    }\n",
              "\n",
              "    .colab-df-quickchart:hover {\n",
              "      background-color: #E2EBFA;\n",
              "      box-shadow: 0px 1px 2px rgba(60, 64, 67, 0.3), 0px 1px 3px 1px rgba(60, 64, 67, 0.15);\n",
              "      fill: #174EA6;\n",
              "    }\n",
              "\n",
              "    [theme=dark] .colab-df-quickchart {\n",
              "      background-color: #3B4455;\n",
              "      fill: #D2E3FC;\n",
              "    }\n",
              "\n",
              "    [theme=dark] .colab-df-quickchart:hover {\n",
              "      background-color: #434B5C;\n",
              "      box-shadow: 0px 1px 3px 1px rgba(0, 0, 0, 0.15);\n",
              "      filter: drop-shadow(0px 1px 2px rgba(0, 0, 0, 0.3));\n",
              "      fill: #FFFFFF;\n",
              "    }\n",
              "\n",
              "    .colab-quickchart-section-title {\n",
              "        clear: both;\n",
              "    }\n",
              "  \u003c/style\u003e\n",
              "\n",
              "    \u003cscript\u003e\n",
              "      const quickchartButtonEl =\n",
              "        document.querySelector('#df-4e0745aa-6f4e-4e38-b1f8-a1484569d13d button.colab-df-quickchart');\n",
              "      quickchartButtonEl.style.display =\n",
              "        google.colab.kernel.accessAllowed ? 'block' : 'none';\n",
              "\n",
              "      async function quickchart(key) {\n",
              "        const containerElement = document.querySelector('#df-4e0745aa-6f4e-4e38-b1f8-a1484569d13d');\n",
              "        const charts = await google.colab.kernel.invokeFunction(\n",
              "            'generateCharts', [key], {});\n",
              "      }\n",
              "    \u003c/script\u003e\n",
              "  \u003cstyle\u003e\n",
              "    .colab-df-container {\n",
              "      display:flex;\n",
              "      flex-wrap:wrap;\n",
              "      gap: 12px;\n",
              "    }\n",
              "\n",
              "    .colab-df-convert {\n",
              "      background-color: #E8F0FE;\n",
              "      border: none;\n",
              "      border-radius: 50%;\n",
              "      cursor: pointer;\n",
              "      display: none;\n",
              "      fill: #1967D2;\n",
              "      height: 32px;\n",
              "      padding: 0 0 0 0;\n",
              "      width: 32px;\n",
              "    }\n",
              "\n",
              "    .colab-df-convert:hover {\n",
              "      background-color: #E2EBFA;\n",
              "      box-shadow: 0px 1px 2px rgba(60, 64, 67, 0.3), 0px 1px 3px 1px rgba(60, 64, 67, 0.15);\n",
              "      fill: #174EA6;\n",
              "    }\n",
              "\n",
              "    [theme=dark] .colab-df-convert {\n",
              "      background-color: #3B4455;\n",
              "      fill: #D2E3FC;\n",
              "    }\n",
              "\n",
              "    [theme=dark] .colab-df-convert:hover {\n",
              "      background-color: #434B5C;\n",
              "      box-shadow: 0px 1px 3px 1px rgba(0, 0, 0, 0.15);\n",
              "      filter: drop-shadow(0px 1px 2px rgba(0, 0, 0, 0.3));\n",
              "      fill: #FFFFFF;\n",
              "    }\n",
              "  \u003c/style\u003e\n",
              "\n",
              "      \u003cscript\u003e\n",
              "        const buttonEl =\n",
              "          document.querySelector('#df-256412c5-ca12-40a8-87c3-5d09ba4b2301 button.colab-df-convert');\n",
              "        buttonEl.style.display =\n",
              "          google.colab.kernel.accessAllowed ? 'block' : 'none';\n",
              "\n",
              "        async function convertToInteractive(key) {\n",
              "          const element = document.querySelector('#df-256412c5-ca12-40a8-87c3-5d09ba4b2301');\n",
              "          const dataTable =\n",
              "            await google.colab.kernel.invokeFunction('convertToInteractive',\n",
              "                                                     [key], {});\n",
              "          if (!dataTable) return;\n",
              "\n",
              "          const docLinkHtml = 'Like what you see? Visit the ' +\n",
              "            '\u003ca target=\"_blank\" href=https://colab.research.google.com/notebooks/data_table.ipynb\u003edata table notebook\u003c/a\u003e'\n",
              "            + ' to learn more about interactive tables.';\n",
              "          element.innerHTML = '';\n",
              "          dataTable['output_type'] = 'display_data';\n",
              "          await google.colab.output.renderOutput(dataTable, element);\n",
              "          const docLink = document.createElement('div');\n",
              "          docLink.innerHTML = docLinkHtml;\n",
              "          element.appendChild(docLink);\n",
              "        }\n",
              "      \u003c/script\u003e\n",
              "    \u003c/div\u003e\n",
              "  \u003c/div\u003e\n",
              "  "
            ],
            "text/plain": [
              "   MovieID                               Title                        Genres\n",
              "0      0.0                    Toy Story (1995)   Animation|Children's|Comedy\n",
              "1      1.0                      Jumanji (1995)  Adventure|Children's|Fantasy\n",
              "2      2.0             Grumpier Old Men (1995)                Comedy|Romance\n",
              "3      3.0            Waiting to Exhale (1995)                  Comedy|Drama\n",
              "4      4.0  Father of the Bride Part II (1995)                        Comedy"
            ]
          },
          "execution_count": 6,
          "metadata": {},
          "output_type": "execute_result"
        }
      ],
      "source": [
        "movies_df.head()"
      ]
    },
    {
      "cell_type": "markdown",
      "metadata": {
        "id": "YWsip1k5ue5B"
      },
      "source": [
        "It's always a good idea to understand basic statistics of the dataset:"
      ]
    },
    {
      "cell_type": "code",
      "execution_count": 7,
      "metadata": {
        "id": "8I1jgmDOCqt4"
      },
      "outputs": [
        {
          "name": "stdout",
          "output_type": "stream",
          "text": [
            "Num users: 6040\n",
            "Num movies: 3706\n"
          ]
        }
      ],
      "source": [
        "print('Num users:', len(set(ratings_df.UserID)))\n",
        "print('Num movies:', len(set(ratings_df.MovieID)))"
      ]
    },
    {
      "cell_type": "code",
      "execution_count": 8,
      "metadata": {
        "id": "1aO07Lg21Joa"
      },
      "outputs": [
        {
          "data": {
            "image/png": "[encoded data removed]",
            "text/plain": [
              "\u003cFigure size 600x400 with 1 Axes\u003e"
            ]
          },
          "metadata": {},
          "output_type": "display_data"
        },
        {
          "name": "stdout",
          "output_type": "stream",
          "text": [
            "Average rating: 3.581564453029317\n",
            "Median rating: 4.0\n"
          ]
        }
      ],
      "source": [
        "ratings = ratings_df.Rating.tolist()\n",
        "\n",
        "plt.hist(ratings, bins=5)\n",
        "plt.xticks([1, 2, 3, 4, 5])\n",
        "plt.ylabel('Count')\n",
        "plt.xlabel('Rating')\n",
        "plt.show()\n",
        "\n",
        "print('Average rating:', np.mean(ratings))\n",
        "print('Median rating:', np.median(ratings))"
      ]
    },
    {
      "cell_type": "markdown",
      "metadata": {
        "id": "poMbHDQguqPA"
      },
      "source": [
        "We can also plot the most popular movie genres."
      ]
    },
    {
      "cell_type": "code",
      "execution_count": 9,
      "metadata": {
        "id": "1gYdfRoOw04z"
      },
      "outputs": [
        {
          "data": {
            "image/png": "[encoded data removed]",
            "text/plain": [
              "\u003cFigure size 1100x1100 with 1 Axes\u003e"
            ]
          },
          "metadata": {},
          "output_type": "display_data"
        }
      ],
      "source": [
        "movie_genres_list = movies_df.Genres.tolist()\n",
        "# Count the number of times each genre describes a movie.\n",
        "genre_count = collections.defaultdict(int)\n",
        "for genres in movie_genres_list:\n",
        "  curr_genres_list = genres.split('|')\n",
        "  for genre in curr_genres_list:\n",
        "    genre_count[genre] += 1\n",
        "genre_name_list, genre_count_list = zip(*genre_count.items())\n",
        "\n",
        "plt.figure(figsize=(11, 11))\n",
        "plt.pie(genre_count_list, labels=genre_name_list)\n",
        "plt.title('MovieLens Movie Genres')\n",
        "plt.show()"
      ]
    },
    {
      "cell_type": "markdown",
      "metadata": {
        "id": "evWb8hg8vk-P"
      },
      "source": [
        "This data is naturally partitioned into ratings from different users, so we'd expect some heterogeneity in data between clients. Below we display the most commonly rated movie genres for different users. We can observe significant differences between users."
      ]
    },
    {
      "cell_type": "code",
      "execution_count": 10,
      "metadata": {
        "id": "EfAeZ7f0GlSo"
      },
      "outputs": [
        {
          "name": "stdout",
          "output_type": "stream",
          "text": [
            "\n",
            "For user 0:\n",
            "Drama was rated 21 times\n",
            "Children's was rated 20 times\n",
            "Animation was rated 18 times\n",
            "Musical was rated 14 times\n",
            "Comedy was rated 14 times\n",
            "\n",
            "For user 10:\n",
            "Comedy was rated 84 times\n",
            "Drama was rated 54 times\n",
            "Romance was rated 22 times\n",
            "Thriller was rated 18 times\n",
            "Action was rated 9 times\n",
            "\n",
            "For user 19:\n",
            "Action was rated 17 times\n",
            "Sci-Fi was rated 9 times\n",
            "Thriller was rated 9 times\n",
            "Drama was rated 6 times\n",
            "Crime was rated 5 times\n"
          ]
        }
      ],
      "source": [
        "def print_top_genres_for_user(ratings_df, movies_df, user_id):\n",
        "  \"\"\"Prints top movie genres for user with ID user_id.\"\"\"\n",
        "  user_ratings_df = ratings_df[ratings_df.UserID == user_id]\n",
        "  movie_ids = user_ratings_df.MovieID\n",
        "\n",
        "  genre_count = collections.Counter()\n",
        "  for movie_id in movie_ids:\n",
        "    genres_string = movies_df[movies_df.MovieID == movie_id].Genres.tolist()[0]\n",
        "    for genre in genres_string.split('|'):\n",
        "      genre_count[genre] += 1\n",
        "\n",
        "  print(f'\\nFor user {user_id}:')\n",
        "  for (genre, freq) in genre_count.most_common(5):\n",
        "    print(f'{genre} was rated {freq} times')\n",
        "\n",
        "print_top_genres_for_user(ratings_df, movies_df, user_id=0)\n",
        "print_top_genres_for_user(ratings_df, movies_df, user_id=10)\n",
        "print_top_genres_for_user(ratings_df, movies_df, user_id=19)"
      ]
    },
    {
      "cell_type": "markdown",
      "metadata": {
        "id": "-p88NsfPwTOP"
      },
      "source": [
        "## Preprocessing MovieLens Data\n",
        "\n",
        "We'll now prepare the MovieLens dataset as a list of `tf.data.Dataset`s representing each user's data for use with TFF.\n",
        "\n",
        "We implement two functions:\n",
        "* `create_tf_datasets`: takes our ratings DataFrame and produces a list of user-split `tf.data.Dataset`s.\n",
        "* `split_tf_datasets`: takes a list of datasets and splits them into train/val/test by *user*, so the val/test sets contain only ratings from users **unseen** during training. Typically in standard centralized matrix factorization we actually split so that the val/test sets contain held-out ratings from **seen** users, since unseen users don't have user embeddings. In our case, we'll see later that the approach we use to enable matrix factorization in FL also enables quickly reconstructing user embeddings for unseen users."
      ]
    },
    {
      "cell_type": "code",
      "execution_count": 11,
      "metadata": {
        "id": "DHwb2AsvtIwO"
      },
      "outputs": [],
      "source": [
        "def create_tf_datasets(ratings_df: pd.DataFrame,\n",
        "                       batch_size: int = 1,\n",
        "                       max_examples_per_user: Optional[int] = None,\n",
        "                       max_clients: Optional[int] = None) -\u003e List[tf.data.Dataset]:\n",
        "  \"\"\"Creates TF Datasets containing the movies and ratings for all users.\"\"\"\n",
        "  num_users = len(set(ratings_df.UserID))\n",
        "  # Optionally limit to `max_clients` to speed up data loading.\n",
        "  if max_clients is not None:\n",
        "    num_users = min(num_users, max_clients)\n",
        "\n",
        "  def rating_batch_map_fn(rating_batch):\n",
        "    \"\"\"Maps a rating batch to an OrderedDict with tensor values.\"\"\"\n",
        "    # Each example looks like: {x: movie_id, y: rating}.\n",
        "    # We won't need the UserID since each client will only look at their own\n",
        "    # data.\n",
        "    return collections.OrderedDict([\n",
        "        (\"x\", tf.cast(rating_batch[:, 1:2], tf.int64)),\n",
        "        (\"y\", tf.cast(rating_batch[:, 2:3], tf.float32))\n",
        "    ])\n",
        "\n",
        "  tf_datasets = []\n",
        "  for user_id in range(num_users):\n",
        "    # Get subset of ratings_df belonging to a particular user.\n",
        "    user_ratings_df = ratings_df[ratings_df.UserID == user_id]\n",
        "\n",
        "    tf_dataset = tf.data.Dataset.from_tensor_slices(user_ratings_df)\n",
        "\n",
        "    # Define preprocessing operations.\n",
        "    tf_dataset = tf_dataset.take(max_examples_per_user).shuffle(\n",
        "        buffer_size=max_examples_per_user, seed=42).batch(batch_size).map(\n",
        "        rating_batch_map_fn,\n",
        "        num_parallel_calls=tf.data.experimental.AUTOTUNE)\n",
        "    tf_datasets.append(tf_dataset)\n",
        "\n",
        "  return tf_datasets\n",
        "\n",
        "\n",
        "def split_tf_datasets(\n",
        "    tf_datasets: List[tf.data.Dataset],\n",
        "    train_fraction: float = 0.8,\n",
        "    val_fraction: float = 0.1,\n",
        ") -\u003e Tuple[List[tf.data.Dataset], List[tf.data.Dataset], List[tf.data.Dataset]]:\n",
        "  \"\"\"Splits a list of user TF datasets into train/val/test by user.\n",
        "  \"\"\"\n",
        "  np.random.seed(42)\n",
        "  np.random.shuffle(tf_datasets)\n",
        "\n",
        "  train_idx = int(len(tf_datasets) * train_fraction)\n",
        "  val_idx = int(len(tf_datasets) * (train_fraction + val_fraction))\n",
        "\n",
        "  # Note that the val and test data contains completely different users, not\n",
        "  # just unseen ratings from train users.\n",
        "  return (tf_datasets[:train_idx], tf_datasets[train_idx:val_idx],\n",
        "          tf_datasets[val_idx:])"
      ]
    },
    {
      "cell_type": "code",
      "execution_count": 12,
      "metadata": {
        "id": "T6pJVpHfns9q"
      },
      "outputs": [],
      "source": [
        "# We limit the number of clients to speed up dataset creation. Feel free to pass\n",
        "# max_clients=None to load all clients' data.\n",
        "tf_datasets = create_tf_datasets(\n",
        "    ratings_df=ratings_df,\n",
        "    batch_size=5,\n",
        "    max_examples_per_user=300,\n",
        "    max_clients=2000)\n",
        "\n",
        "# Split the ratings into training/val/test by client.\n",
        "tf_train_datasets, tf_val_datasets, tf_test_datasets = split_tf_datasets(\n",
        "    tf_datasets,\n",
        "    train_fraction=0.8,\n",
        "    val_fraction=0.1)"
      ]
    },
    {
      "cell_type": "markdown",
      "metadata": {
        "id": "T2SdGARZ0-cm"
      },
      "source": [
        "As a quick check, we can print a batch of training data. We can see that each individual example contains a MovieID under the \"x\" key and a rating under the \"y\" key. Note that we won't need the UserID since each user only sees their own data."
      ]
    },
    {
      "cell_type": "code",
      "execution_count": 13,
      "metadata": {
        "id": "9D2rCgcwFP4E"
      },
      "outputs": [
        {
          "name": "stdout",
          "output_type": "stream",
          "text": [
            "OrderedDict([('x', \u003ctf.Tensor: shape=(5, 1), dtype=int64, numpy=\n",
            "array([[1907],\n",
            "       [2891],\n",
            "       [1574],\n",
            "       [2785],\n",
            "       [2775]])\u003e), ('y', \u003ctf.Tensor: shape=(5, 1), dtype=float32, numpy=\n",
            "array([[3.],\n",
            "       [3.],\n",
            "       [3.],\n",
            "       [4.],\n",
            "       [3.]], dtype=float32)\u003e)])\n"
          ]
        }
      ],
      "source": [
        "print(next(iter(tf_train_datasets[0])))"
      ]
    },
    {
      "cell_type": "markdown",
      "metadata": {
        "id": "VOaSLuFK18G7"
      },
      "source": [
        "We can plot a histogram showing the number of ratings per user."
      ]
    },
    {
      "cell_type": "code",
      "execution_count": 14,
      "metadata": {
        "id": "98VwSFBe1GPM"
      },
      "outputs": [
        {
          "data": {
            "image/png": "[encoded data removed]",
            "text/plain": [
              "\u003cFigure size 600x400 with 1 Axes\u003e"
            ]
          },
          "metadata": {},
          "output_type": "display_data"
        }
      ],
      "source": [
        "def count_examples(curr_count, batch):\n",
        "  return curr_count + tf.size(batch['x'])\n",
        "\n",
        "num_examples_list = []\n",
        "# Compute number of examples for every other user.\n",
        "for i in range(0, len(tf_train_datasets), 2):\n",
        "  num_examples = tf_train_datasets[i].reduce(tf.constant(0), count_examples).numpy()\n",
        "  num_examples_list.append(num_examples)\n",
        "\n",
        "plt.hist(num_examples_list, bins=10)\n",
        "plt.ylabel('Count')\n",
        "plt.xlabel('Number of Examples')\n",
        "plt.show()"
      ]
    },
    {
      "cell_type": "markdown",
      "metadata": {
        "id": "eqz6oRm22FWM"
      },
      "source": [
        "Now that we've loaded and explored the data, we'll discuss how to bring matrix factorization to federated learning. Along the way, we'll motivate partially local federated learning."
      ]
    },
    {
      "cell_type": "markdown",
      "metadata": {
        "id": "PMZLj5WprMJM"
      },
      "source": [
        "## Bringing Matrix Factorization to FL\n",
        "\n",
        "While matrix factorization has been traditionally used in centralized settings, it's especially relevant in federated learning:  user ratings may live on separate client devices, and we may want to learn embeddings and recommendations for users and items without centralizing the data. Since each user has a corresponding user embedding, it's natural to have each client store their user embedding–this scales much better than a central server storing all the user embeddings.\n",
        "\n",
        "One proposal for bringing matrix factorization to FL goes as follows:\n",
        "1. The server stores and sends the item matrix $I$ to sampled clients each round\n",
        "2. Clients update the item matrix and their personal user embedding $U_u$ using SGD on the above objective\n",
        "3. Updates to $I$ are aggregated on the server, updating the server copy of $I$ for the next round\n",
        "\n",
        "This approach is *partially local*–that is, some client parameters are never aggregated by the server. Though this approach is appealing, it requires clients to maintain state across rounds, namely their user embeddings. Stateful federated algorithms are less appropriate for cross-device FL settings: in these settings the population size is often much larger than the number of clients that participate in each round, and a client usually participates at most once during the training process. Besides relying on state that may not be initialized, stateful algorithms can result in performance degradation in cross-device settings due to state getting *stale* when clients are infrequently sampled. Importantly, in the matrix factorization setting, a stateful algorithm leads to all unseen clients missing trained user embeddings, and in large-scale training the majority of users may be unseen. For more on the motivation for stateless algorithms in cross-device FL, see [Wang et al. 2021 Sec. 3.1.1](https://arxiv.org/pdf/2107.06917.pdf) and [Reddi et al. 2020 Sec. 5.1](https://arxiv.org/abs/2003.00295).\n",
        "\n",
        "Federated Reconstruction ([Singhal et al. 2021](https://arxiv.org/abs/2102.03448)) is a stateless alternative to the aforementioned approach. The key idea is that instead of storing user embeddings across rounds, clients reconstruct user embeddings when needed. When FedRecon is applied to matrix factorization, training proceeds as follows:\n",
        "1. The server stores and sends the item matrix $I$ to sampled clients each round\n",
        "2. Each client freezes $I$ and trains their user embedding $U_u$ using one or more steps of SGD (reconstruction)\n",
        "3. Each client freezes $U_u$ and trains $I$ using one or more steps of SGD\n",
        "4. Updates to $I$ are aggregated across users, updating the server copy of $I$ for the next round\n",
        "\n",
        "This approach does not require clients to maintain state across rounds. The authors also show in the paper that this method leads to fast reconstruction of user embeddings for unseen clients (Sec. 4.2, Fig. 3, and Table 1), allowing the majority of clients who do not participate in training to have a trained model, enabling recommendations for these clients. See the Federated Reconstruction [Google AI Blog post](https://ai.googleblog.com/2021/12/a-scalable-approach-for-partially-local.html) for more key results."
      ]
    },
    {
      "cell_type": "markdown",
      "metadata": {
        "id": "imwLf1zksCjN"
      },
      "source": [
        "## Defining the Model\n",
        "\n",
        "We'll next define the local matrix factorization model to be trained on client devices. This model will include the full item matrix $I$ and a single user embedding $U_u$ for client $u$. Note that clients will not need to store the full user matrix $U$.\n",
        "\n",
        "We'll define the following:\n",
        "- `UserEmbedding`: a simple Keras layer representing a single `num_latent_factors`-dimensional user embedding.\n",
        "- `get_matrix_factorization_model`: a function that returns a [`tff.learning.models.ReconstructionModel`](https://www.tensorflow.org/federated/api_docs/python/tff/learning/models/ReconstructionModel) containing the model logic, including which layers are globally aggregated on the server and which layers remain local. We need this additional information to initialize the Federated Reconstruction training process. Here we produce the `tff.learning.models.ReconstructionModel` from a Keras model using [`tff.learning.models.ReconstructionModel.from_keras_model_and_layers`](https://www.tensorflow.org/federated/api_docs/python/tff/learning/models/ReconstructionModel#from_keras_model_and_layers). Similar to `tff.learning.models.VariableModel`, we can also implement a custom `tff.learning.models.ReconstructionModel` by implementing the class interface."
      ]
    },
    {
      "cell_type": "code",
      "execution_count": 15,
      "metadata": {
        "id": "nSLMxPDP3D72"
      },
      "outputs": [],
      "source": [
        "class UserEmbedding(tf.keras.layers.Layer):\n",
        "  \"\"\"Keras layer representing an embedding for a single user, used below.\"\"\"\n",
        "\n",
        "  def __init__(self, num_latent_factors, **kwargs):\n",
        "    super().__init__(**kwargs)\n",
        "    self.num_latent_factors = num_latent_factors\n",
        "\n",
        "  def build(self, input_shape):\n",
        "    self.embedding = self.add_weight(\n",
        "        shape=(1, self.num_latent_factors),\n",
        "        initializer='uniform',\n",
        "        dtype=tf.float32,\n",
        "        name='UserEmbeddingKernel')\n",
        "    super().build(input_shape)\n",
        "\n",
        "  def call(self, inputs):\n",
        "    return self.embedding\n",
        "\n",
        "  def compute_output_shape(self):\n",
        "    return (1, self.num_latent_factors)\n",
        "\n",
        "\n",
        "def get_matrix_factorization_model(\n",
        "    num_items: int,\n",
        "    num_latent_factors: int) -\u003e tff.learning.models.ReconstructionModel:\n",
        "  \"\"\"Defines a Keras matrix factorization model.\"\"\"\n",
        "  # Layers with variables will be partitioned into global and local layers.\n",
        "  # We'll pass this to `tff.learning.models.ReconstructionModel.from_keras_model_and_layers`.\n",
        "  global_layers = []\n",
        "  local_layers = []\n",
        "\n",
        "  # Extract the item embedding.\n",
        "  item_input = tf.keras.layers.Input(shape=[1], name='Item')\n",
        "  item_embedding_layer = tf.keras.layers.Embedding(\n",
        "      num_items,\n",
        "      num_latent_factors,\n",
        "      name='ItemEmbedding')\n",
        "  global_layers.append(item_embedding_layer)\n",
        "  flat_item_vec = tf.keras.layers.Flatten(name='FlattenItems')(\n",
        "      item_embedding_layer(item_input))\n",
        "\n",
        "  # Extract the user embedding.\n",
        "  user_embedding_layer = UserEmbedding(\n",
        "      num_latent_factors,\n",
        "      name='UserEmbedding')\n",
        "  local_layers.append(user_embedding_layer)\n",
        "\n",
        "  # The item_input never gets used by the user embedding layer,\n",
        "  # but this allows the model to directly use the user embedding.\n",
        "  flat_user_vec = user_embedding_layer(item_input)\n",
        "\n",
        "  # Compute the dot product between the user embedding, and the item one.\n",
        "  pred = tf.keras.layers.Dot(\n",
        "      1, normalize=False, name='Dot')([flat_user_vec, flat_item_vec])\n",
        "\n",
        "  input_spec = collections.OrderedDict(\n",
        "      x=tf.TensorSpec(shape=[None, 1], dtype=tf.int64),\n",
        "      y=tf.TensorSpec(shape=[None, 1], dtype=tf.float32))\n",
        "\n",
        "  model = tf.keras.Model(inputs=item_input, outputs=pred)\n",
        "\n",
        "  return tff.learning.models.ReconstructionModel.from_keras_model_and_layers(\n",
        "      keras_model=model,\n",
        "      global_layers=global_layers,\n",
        "      local_layers=local_layers,\n",
        "      input_spec=input_spec)"
      ]
    },
    {
      "cell_type": "markdown",
      "metadata": {
        "id": "-B3FPaRiwY3n"
      },
      "source": [
        "Analagous to the interface for Federated Averaging, the interface for Federated Reconstruction expects a `model_fn` with no arguments that returns a `tff.learning.models.ReconstructionModel`."
      ]
    },
    {
      "cell_type": "code",
      "execution_count": 16,
      "metadata": {
        "id": "vNBRQW9EwneZ"
      },
      "outputs": [],
      "source": [
        "# This will be used to produce our training process.\n",
        "# User and item embeddings will be 50-dimensional.\n",
        "model_fn = functools.partial(\n",
        "    get_matrix_factorization_model,\n",
        "    num_items=3706,\n",
        "    num_latent_factors=50)"
      ]
    },
    {
      "cell_type": "markdown",
      "metadata": {
        "id": "fQVpVIfnwvPg"
      },
      "source": [
        "We'll next define `loss_fn` and `metrics_fn`, where `loss_fn` is a no-argument function returning a Keras loss to use to train the model, and `metrics_fn` is a no-argument function returning a list of Keras metrics for evaluation. These are needed to build the training and evaluation computations.\n",
        "\n",
        "We'll use Mean Squared Error as the loss, as mentioned above. For evaluation we'll use rating accuracy (when the model's predicted dot product is rounded to the nearest whole number, how often does it match the label rating?)."
      ]
    },
    {
      "cell_type": "code",
      "execution_count": 17,
      "metadata": {
        "id": "FDJUfeSNwxIL"
      },
      "outputs": [],
      "source": [
        "class RatingAccuracy(tf.keras.metrics.Mean):\n",
        "  \"\"\"Keras metric computing accuracy of reconstructed ratings.\"\"\"\n",
        "\n",
        "  def __init__(self,\n",
        "               name: str = 'rating_accuracy',\n",
        "               **kwargs):\n",
        "    super().__init__(name=name, **kwargs)\n",
        "\n",
        "  def update_state(self,\n",
        "                   y_true: tf.Tensor,\n",
        "                   y_pred: tf.Tensor,\n",
        "                   sample_weight: Optional[tf.Tensor] = None):\n",
        "    absolute_diffs = tf.abs(y_true - y_pred)\n",
        "    # A [batch_size, 1] tf.bool tensor indicating correctness within the\n",
        "    # threshold for each example in a batch. A 0.5 threshold corresponds\n",
        "    # to correctness when predictions are rounded to the nearest whole\n",
        "    # number.\n",
        "    example_accuracies = tf.less_equal(absolute_diffs, 0.5)\n",
        "    super().update_state(example_accuracies, sample_weight=sample_weight)\n",
        "\n",
        "\n",
        "loss_fn = lambda: tf.keras.losses.MeanSquaredError()\n",
        "metrics_fn = lambda: [RatingAccuracy()]"
      ]
    },
    {
      "cell_type": "markdown",
      "metadata": {
        "id": "ecM_vru8xg2j"
      },
      "source": [
        "## Training and Evaluation\n",
        "\n",
        "Now we have everything we need to define the training process. One important difference from the [interface for Federated Averaging](https://www.tensorflow.org/federated/api_docs/python/tff/learning/algorithms/build_weighted_fed_avg) is that we now pass in a `reconstruction_optimizer_fn`, which will be used when reconstructing local parameters (in our case, user embeddings). It's generally reasonable to use `SGD` here, with a similar or slightly lower learning rate than the client optimizer learning rate. We provide a working configuration below. This hasn't been carefully tuned, so feel free to play around with different values.\n",
        "\n",
        "Check out the [documentation](https://www.tensorflow.org/federated/api_docs/python/tff/learning/reconstruction/build_training_process) for more details and options."
      ]
    },
    {
      "cell_type": "code",
      "execution_count": 18,
      "metadata": {
        "id": "YQsX0FgtwsoE"
      },
      "outputs": [],
      "source": [
        "# We'll use this by doing:\n",
        "# state = training_process.initialize()\n",
        "# state, metrics = training_process.next(state, federated_train_data)\n",
        "training_process = tff.learning.algorithms.build_fed_recon(\n",
        "    model_fn=model_fn,\n",
        "    loss_fn=loss_fn,\n",
        "    metrics_fn=metrics_fn,\n",
        "    server_optimizer_fn=tff.learning.optimizers.build_sgdm(1.0),\n",
        "    client_optimizer_fn=tff.learning.optimizers.build_sgdm(0.5),\n",
        "    reconstruction_optimizer_fn=tff.learning.optimizers.build_sgdm(0.1))"
      ]
    },
    {
      "cell_type": "markdown",
      "metadata": {
        "id": "ssbbds4vzhXJ"
      },
      "source": [
        "We can also define a computation for evaluating our trained global model."
      ]
    },
    {
      "cell_type": "code",
      "execution_count": 19,
      "metadata": {
        "id": "KHi7J330PtxO"
      },
      "outputs": [],
      "source": [
        "evaluation_process = tff.learning.algorithms.build_fed_recon_eval(\n",
        "    model_fn,\n",
        "    loss_fn=loss_fn,\n",
        "    metrics_fn=metrics_fn,\n",
        "    reconstruction_optimizer_fn=tff.learning.optimizers.build_sgdm(0.1))"
      ]
    },
    {
      "cell_type": "markdown",
      "metadata": {
        "id": "h_V_ZwlE0DSl"
      },
      "source": [
        "We can initialize the training process state and examine it. Most importantly, we can see that this server state only stores item variables (currently randomly initialized) and not any user embeddings."
      ]
    },
    {
      "cell_type": "code",
      "execution_count": 22,
      "metadata": {
        "id": "I_kOjFVKQoNX"
      },
      "outputs": [
        {
          "name": "stdout",
          "output_type": "stream",
          "text": [
            "ModelWeights(trainable=[array([[-0.01839826,  0.04044249, -0.04871846, ...,  0.01967763,\n",
            "        -0.03034571, -0.01698984],\n",
            "       [-0.03716197,  0.0374358 ,  0.00968184, ..., -0.04857936,\n",
            "        -0.0385102 , -0.01883975],\n",
            "       [-0.01227728, -0.04690691,  0.00250578, ...,  0.01141983,\n",
            "         0.01773251,  0.03525344],\n",
            "       ...,\n",
            "       [ 0.03374172,  0.02467764,  0.00621947, ..., -0.01521915,\n",
            "        -0.01185555,  0.0295455 ],\n",
            "       [-0.04029766, -0.02826073,  0.0358924 , ..., -0.02519268,\n",
            "        -0.03909808, -0.01965014],\n",
            "       [-0.04007702, -0.04353172,  0.04063287, ...,  0.01851353,\n",
            "        -0.00767929, -0.00816654]], dtype=float32)], non_trainable=[])\n",
            "Item variables shape: (3706, 50)\n"
          ]
        }
      ],
      "source": [
        "state = training_process.initialize()\n",
        "model = training_process.get_model_weights(state)\n",
        "print(model)\n",
        "print('Item variables shape:', model.trainable[0].shape)"
      ]
    },
    {
      "cell_type": "markdown",
      "metadata": {
        "id": "yPFqgTV21lJO"
      },
      "source": [
        "We can also try to evaluate our randomly initialized model on validation clients. Federated Reconstruction evaluation here involves the following:\n",
        "\n",
        "1. The server sends the item matrix $I$ to sampled evaluation clients\n",
        "2. Each client freezes $I$ and trains their user embedding $U_u$ using one or more steps of SGD (reconstruction)\n",
        "3. Each client calculates loss and metrics using the server $I$ and reconstructed $U_u$ on an unseen portion of their local data\n",
        "4. Losses and metrics are averaged across users to calculate overall loss and metrics\n",
        "\n",
        "Note that steps 1 and 2 are the same as for training. This connection is important, since training the same way we evaluate leads to a form of *meta-learning*, or learning how to learn. In this case, the model is learning how to learn global variables (item matrix) that lead to performant reconstruction of local variables (user embeddings). For more on this, see [Sec. 4.2](https://arxiv.org/abs/2102.03448) of the paper.\n",
        "\n",
        "It's also important for steps 2 and 3 to be performed using disjoint portions of clients' local data, to ensure fair evaluation. By default, both the training process and evaluation computation use every other example for reconstruction and use the other half post-reconstruction. This behavior can be customized using the `dataset_split_fn` argument (we'll explore this further later)."
      ]
    },
    {
      "cell_type": "code",
      "execution_count": 25,
      "metadata": {
        "id": "JiBOGFsWWBiU"
      },
      "outputs": [
        {
          "name": "stdout",
          "output_type": "stream",
          "text": [
            "Initial Eval: OrderedDict([('rating_accuracy', 0.0), ('loss', 14.365454)])\n"
          ]
        }
      ],
      "source": [
        "# We shouldn't expect good evaluation results here, since we haven't trained\n",
        "# yet!\n",
        "eval_state = evaluation_process.initialize()\n",
        "eval_state = evaluation_process.set_model_weights(\n",
        "  eval_state, training_process.get_model_weights(state)\n",
        ")\n",
        "_, eval_metrics = evaluation_process.next(eval_state, tf_val_datasets)\n",
        "print('Initial Eval:', eval_metrics['client_work']['eval'])"
      ]
    },
    {
      "cell_type": "markdown",
      "metadata": {
        "id": "aZUZwjWp4iJu"
      },
      "source": [
        "We can next try running a round of training. To make things more realistic, we'll sample 50 clients per round randomly without replacement. We should still expect train metrics to be poor, since we're only doing one round of training."
      ]
    },
    {
      "cell_type": "code",
      "execution_count": 26,
      "metadata": {
        "id": "lOTfqrVcVfJf"
      },
      "outputs": [
        {
          "name": "stdout",
          "output_type": "stream",
          "text": [
            "Train metrics: OrderedDict([('rating_accuracy', 0.0), ('loss', 14.183293)])\n"
          ]
        }
      ],
      "source": [
        "federated_train_data = np.random.choice(tf_train_datasets, size=50, replace=False).tolist()\n",
        "state, metrics = training_process.next(state, federated_train_data)\n",
        "print(f'Train metrics:', metrics['client_work']['train'])"
      ]
    },
    {
      "cell_type": "markdown",
      "metadata": {
        "id": "Rr3ZS9jz5Mj0"
      },
      "source": [
        "Now let's set up a training loop to train over multiple rounds."
      ]
    },
    {
      "cell_type": "code",
      "execution_count": 28,
      "metadata": {
        "id": "VJBzOPNYwp9q"
      },
      "outputs": [
        {
          "name": "stdout",
          "output_type": "stream",
          "text": [
            "Train round 0: OrderedDict([('rating_accuracy', 0.0), ('loss', 14.523704)])\n",
            "Train round 1: OrderedDict([('rating_accuracy', 0.0), ('loss', 14.552873)])\n",
            "Train round 2: OrderedDict([('rating_accuracy', 0.0), ('loss', 14.480412)])\n",
            "Train round 3: OrderedDict([('rating_accuracy', 0.0051107327), ('loss', 12.155375)])\n",
            "Train round 4: OrderedDict([('rating_accuracy', 0.042440318), ('loss', 9.201913)])\n",
            "Train round 5: OrderedDict([('rating_accuracy', 0.11840491), ('loss', 5.5969186)])\n",
            "Train round 6: OrderedDict([('rating_accuracy', 0.12890044), ('loss', 5.5303264)])\n",
            "Train round 7: OrderedDict([('rating_accuracy', 0.19774501), ('loss', 3.9932375)])\n",
            "Train round 8: OrderedDict([('rating_accuracy', 0.21234067), ('loss', 3.5070496)])\n",
            "Train round 9: OrderedDict([('rating_accuracy', 0.21757619), ('loss', 3.5754187)])\n",
            "Train round 10: OrderedDict([('rating_accuracy', 0.24020319), ('loss', 3.0558898)])\n",
            "Train round 11: OrderedDict([('rating_accuracy', 0.2337753), ('loss', 3.1659348)])\n",
            "Train round 12: OrderedDict([('rating_accuracy', 0.2638889), ('loss', 2.413888)])\n",
            "Train round 13: OrderedDict([('rating_accuracy', 0.2622365), ('loss', 2.760038)])\n",
            "Train round 14: OrderedDict([('rating_accuracy', 0.27820238), ('loss', 2.195349)])\n",
            "Train round 15: OrderedDict([('rating_accuracy', 0.29124364), ('loss', 2.447856)])\n",
            "Train round 16: OrderedDict([('rating_accuracy', 0.30438596), ('loss', 2.096729)])\n",
            "Train round 17: OrderedDict([('rating_accuracy', 0.29557413), ('loss', 2.0750825)])\n",
            "Train round 18: OrderedDict([('rating_accuracy', 0.31832394), ('loss', 1.99085)])\n",
            "Train round 19: OrderedDict([('rating_accuracy', 0.3162333), ('loss', 2.0302613)])\n",
            "Final Eval: OrderedDict([('rating_accuracy', 0.3126193), ('loss', 2.0305126)])\n"
          ]
        }
      ],
      "source": [
        "NUM_ROUNDS = 20\n",
        "\n",
        "train_losses = []\n",
        "train_accs = []\n",
        "\n",
        "state = training_process.initialize()\n",
        "\n",
        "# This may take a couple minutes to run.\n",
        "for i in range(NUM_ROUNDS):\n",
        "  federated_train_data = np.random.choice(tf_train_datasets, size=50, replace=False).tolist()\n",
        "  state, metrics = training_process.next(state, federated_train_data)\n",
        "  print(f'Train round {i}:', metrics['client_work']['train'])\n",
        "  train_losses.append(metrics['client_work']['train']['loss'])\n",
        "  train_accs.append(metrics['client_work']['train']['rating_accuracy'])\n",
        "\n",
        "\n",
        "eval_state = evaluation_process.set_model_weights(\n",
        "  eval_state, training_process.get_model_weights(state))\n",
        "_, eval_metrics = evaluation_process.next(eval_state, tf_val_datasets)\n",
        "print('Final Eval:', eval_metrics['client_work']['eval'])"
      ]
    },
    {
      "cell_type": "markdown",
      "metadata": {
        "id": "yM-jAGNm5di7"
      },
      "source": [
        "We can plot training loss and accuracy over rounds. The hyperparameters in this notebook have not been carefully tuned, so feel free to try different clients per round, learning rates, number of rounds, and total number of clients to improve these results."
      ]
    },
    {
      "cell_type": "code",
      "execution_count": 29,
      "metadata": {
        "id": "h6w702JmR-3V"
      },
      "outputs": [
        {
          "data": {
            "image/png": "[encoded data removed]",
            "text/plain": [
              "\u003cFigure size 600x400 with 1 Axes\u003e"
            ]
          },
          "metadata": {},
          "output_type": "display_data"
        },
        {
          "data": {
            "image/png": "[encoded data removed]",
            "text/plain": [
              "\u003cFigure size 600x400 with 1 Axes\u003e"
            ]
          },
          "metadata": {},
          "output_type": "display_data"
        }
      ],
      "source": [
        "plt.plot(range(NUM_ROUNDS), train_losses)\n",
        "plt.ylabel('Train Loss')\n",
        "plt.xlabel('Round')\n",
        "plt.title('Train Loss')\n",
        "plt.show()\n",
        "\n",
        "plt.plot(range(NUM_ROUNDS), train_accs)\n",
        "plt.ylabel('Train Accuracy')\n",
        "plt.xlabel('Round')\n",
        "plt.title('Train Accuracy')\n",
        "plt.show()"
      ]
    },
    {
      "cell_type": "markdown",
      "metadata": {
        "id": "ZTzKkT-a5kgX"
      },
      "source": [
        "Finally, we can calculate metrics on an unseen test set when we're finished tuning."
      ]
    },
    {
      "cell_type": "code",
      "execution_count": 32,
      "metadata": {
        "id": "Iq0UxEBBJcR-"
      },
      "outputs": [
        {
          "name": "stdout",
          "output_type": "stream",
          "text": [
            "Final Test: OrderedDict([('rating_accuracy', 0.3129535), ('loss', 1.9429641)])\n"
          ]
        }
      ],
      "source": [
        "eval_state = evaluation_process.set_model_weights(\n",
        "    eval_state, training_process.get_model_weights(state)\n",
        ")\n",
        "_, eval_metrics = evaluation_process.next(eval_state, tf_test_datasets)\n",
        "print('Final Test:', eval_metrics['client_work']['eval'])"
      ]
    },
    {
      "cell_type": "markdown",
      "metadata": {
        "id": "Mr2fRxic6Lfi"
      },
      "source": [
        "## Further Explorations\n",
        "\n",
        "Nice work on completing this notebook. We suggest the following exercises to explore partially local federated learning further, roughly ordered by increasing difficulty:\n",
        "\n",
        "* Typical implementations of Federated Averaging take multiple local passes (epochs) over the data (in addition to taking one pass over the data across multiple batches). For Federated Reconstruction we may want to control the number of steps separately for reconstruction and post-reconstruction training. Passing the `dataset_split_fn` argument to the training and evaluation computation builders enables control of the number of steps and epochs over both reconstruction and post-reconstruction datasets. As an exercise, try performing 3 local epochs of reconstruction training, capped at 50 steps and 1 local epoch of post-reconstruction training, capped at 50 steps. Hint: you'll find [`tff.learning.models.ReconstructionModel.build_dataset_split_fn`](https://www.tensorflow.org/federated/api_docs/python/tff/learning/models/ReconstructionModel#build_dataset_split_fn) helpful. Once you've done this, try tuning these hyperparameters and other related ones like learning rates and batch size to get better results.\n",
        "\n",
        "* The default behavior of Federated Reconstruction training and evaluation is to split clients' local data in half for each of reconstruction and post-reconstruction. In cases where clients have very little local data, it can be reasonable to reuse data for reconstruction and post-reconstruction for the training process only (not for evaluation, this will lead to unfair evaluation). Try making this change for the training process, ensuring the `dataset_split_fn` for evaluation still keeps reconstruction and post-reconstruction data disjoint. Hint: [`tff.learning.models.ReconstructionModel.simple_dataset_split_fn`](https://www.tensorflow.org/federated/api_docs/python/tff/learning/models/ReconstructionModel#simple_dataset_split_fn) might be useful.\n",
        "\n",
        "* Above, we produced a `tff.learning.models.VariableModel` from a Keras model using `tff.learning.models.ReconstructionModel.from_keras_model_and_layers`. We can also implement a custom model using pure TensorFlow 2.0 by [implementing the model interface](https://www.tensorflow.org/federated/api_docs/python/tff/learning/models/ReconstructionModel). Try modifying `get_matrix_factorization_model` to build and return a class that extends `tff.learning.models.ReconstructionModel`, implementing its methods. Hint: the source code of [`tff.learning.models.ReconstructionModel.from_keras_model_and_layers`](https://www.tensorflow.org/federated/api_docs/python/tff/learning/models/ReconstructionModel#from_keras_model_and_layers) provides an example of extending the `tff.learning.models.ReconstructionModel` class. Refer also to the [custom model implementation in the EMNIST image classification tutorial](https://www.tensorflow.org/federated/tutorials/federated_learning_for_image_classification#customizing_the_model_implementation) for a similar exercise in extending a `tff.learning.models.VariableModel`.\n",
        "\n",
        "* In this tutorial, we've motivated partially local federated learning in the context of matrix factorization, where sending user embeddings to the server would trivially leak user preferences. We can also apply Federated Reconstruction in other settings as a way to train more personal models (since part of the model is completely local to each user) while reducing communication (since local parameters are not sent to the server). In general, using the interface presented here we can take any federated model that would typically be trained fully globally and instead partition its variables into global variables and local variables. The example explored in the [Federated Reconstruction paper](https://arxiv.org/abs/2102.03448) is personal next word prediction: here, each user has their own local set of word embeddings for out-of-vocabulary words, enabling the model to capture users' slang and achieve personalization without additional communication. As an exercise, try implementing (as either a Keras model or a custom TensorFlow 2.0 model) a different model for use with Federated Reconstruction. A suggestion: implement an EMNIST classification model with a personal user embedding, where the personal user embedding is concatenated to the CNN image features before the last Dense layer of the model. You can reuse much of the code from this tutorial (e.g. the `UserEmbedding` class) and the [image classification tutorial](https://www.tensorflow.org/federated/tutorials/federated_learning_for_image_classification).\n",
        "\n",
        "\\\n",
        "If you're still looking for more on partially local federated learning, check out the [Federated Reconstruction paper](https://arxiv.org/abs/2102.03448) and [open-source experiment code](https://github.com/google-research/federated/tree/master/reconstruction)."
      ]
    }
  ],
  "metadata": {
    "colab": {
      "name": "federated_reconstruction_for_matrix_factorization.ipynb",
      "toc_visible": true
    },
    "kernelspec": {
      "display_name": "Python 3",
      "name": "python3"
    }
  },
  "nbformat": 4,
  "nbformat_minor": 0
}
