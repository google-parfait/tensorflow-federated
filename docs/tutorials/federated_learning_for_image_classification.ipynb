{
  "nbformat": 4,
  "nbformat_minor": 0,
  "metadata": {
    "colab": {
      "name": "Federated Learning for Image Classification",
      "version": "0.3.2",
      "provenance": [],
      "collapsed_sections": [],
      "toc_visible": true
    },
    "kernelspec": {
      "name": "python3",
      "display_name": "Python 3"
    }
  },
  "cells": [
    {
      "metadata": {
        "id": "qN8P0AnTnAhh",
        "colab_type": "text"
      },
      "cell_type": "markdown",
      "source": [
        "##### Copyright 2019 The TensorFlow Authors."
      ]
    },
    {
      "metadata": {
        "id": "p8SrVqkmnDQv",
        "colab_type": "code",
        "colab": {},
        "cellView": "form"
      },
      "cell_type": "code",
      "source": [
        "#@title Licensed under the Apache License, Version 2.0 (the \"License\");\n",
        "# you may not use this file except in compliance with the License.\n",
        "# You may obtain a copy of the License at\n",
        "#\n",
        "# https://www.apache.org/licenses/LICENSE-2.0\n",
        "#\n",
        "# Unless required by applicable law or agreed to in writing, software\n",
        "# distributed under the License is distributed on an \"AS IS\" BASIS,\n",
        "# WITHOUT WARRANTIES OR CONDITIONS OF ANY KIND, either express or implied.\n",
        "# See the License for the specific language governing permissions and\n",
        "# limitations under the License."
      ],
      "execution_count": 0,
      "outputs": []
    },
    {
      "metadata": {
        "colab_type": "text",
        "id": "AftvNA5VMemJ"
      },
      "cell_type": "markdown",
      "source": [
        "# Federated Learning for Image Classification"
      ]
    },
    {
      "metadata": {
        "id": "coAumH42q9nz",
        "colab_type": "text"
      },
      "cell_type": "markdown",
      "source": [
        "<table class=\"tfo-notebook-buttons\" align=\"left\">\n",
        "  <td>\n",
        "    <a target=\"_blank\" href=\"https://www.tensorflow.org/federated/tutorials/federated_learning_for_image_classification\"><img src=\"https://www.tensorflow.org/images/tf_logo_32px.png\" />View on TensorFlow.org</a>\n",
        "  </td>\n",
        "  <td>\n",
        "    <a target=\"_blank\" href=\"https://colab.research.google.com/github/tensorflow/federated/blob/master/docs/tutorials/federated_learning_for_image_classification.ipynb\"><img src=\"https://www.tensorflow.org/images/colab_logo_32px.png\" />Run in Google Colab</a>\n",
        "  </td>\n",
        "  <td>\n",
        "    <a target=\"_blank\" href=\"https://github.com/tensorflow/federated/blob/master/docs/tutorials/federated_learning_for_image_classification.ipynb\"><img src=\"https://www.tensorflow.org/images/GitHub-Mark-32px.png\" />View source on GitHub</a>\n",
        "  </td>\n",
        "</table>"
      ]
    },
    {
      "metadata": {
        "colab_type": "text",
        "id": "Zs2LgZBOMt4M"
      },
      "cell_type": "markdown",
      "source": [
        "In this tutorial, we use the classic MNIST training example to introduce the\n",
        "Federated Learning (FL) API component of TFF, `tff.learning` - a set of\n",
        "higher-level interfaces that can be used to perform common types of federated\n",
        "learning tasks, such as federated training, against user-supplied models\n",
        "implemented in TensorFlow.\n",
        "\n",
        "This tutorial, and the Federated Learning API, are intended primarly for users\n",
        "who want to plug their own TensorFlow models into TFF, treating the latter\n",
        "mostly as a black box. For a more in-depth understanding of TFF and how to\n",
        "implement your own federated learning algorithms, consider also reviewing as a\n",
        "follow-up the tutorial on lower-level interfaces - [Custom Federated Algorithms Part 1](custom_federated_algorithms_1.ipynb) and [Part 2](custom_federated_algorithms_2.ipynb).\n",
        "\n",
        "For more on `tff.learning`, continue with the\n",
        "[Federated Learning for Text Generation](federated_learning_for_text_generation.ipynb),\n",
        "tutorial which in addition to covering recurrent models, also demonstrates loading a\n",
        "pre-trained serialized Keras model for refinement with federated learning\n",
        "combined with evaluation using Keras."
      ]
    },
    {
      "metadata": {
        "colab_type": "text",
        "id": "MnUwFbCAKB2r"
      },
      "cell_type": "markdown",
      "source": [
        "## Before we start\n",
        "\n",
        "Before we start, please run the following to make sure that your environment is\n",
        "correctly setup. If you don't see a greeting, please refer to the\n",
        "[Installation](../install.md) guide for instructions."
      ]
    },
    {
      "metadata": {
        "id": "ZrGitA_KnRO0",
        "colab_type": "code",
        "colab": {}
      },
      "cell_type": "code",
      "source": [
        "# NOTE: If you are running a Jupyter notebook, and installing a locally built\n",
        "# pip package, you may need to edit the following to point to the '.whl' file\n",
        "# on your local filesystem.\n",
        "\n",
        "!pip install tensorflow_federated"
      ],
      "execution_count": 0,
      "outputs": []
    },
    {
      "metadata": {
        "colab_type": "code",
        "id": "8BKyHkMxKHfV",
        "colab": {}
      },
      "cell_type": "code",
      "source": [
        "from __future__ import absolute_import, division, print_function\n",
        "\n",
        "\n",
        "import collections\n",
        "from six.moves import range\n",
        "import numpy as np\n",
        "import tensorflow as tf\n",
        "from tensorflow.python.keras.optimizer_v2 import gradient_descent\n",
        "from tensorflow_federated import python as tff\n",
        "\n",
        "nest = tf.contrib.framework.nest\n",
        "\n",
        "np.random.seed(0)\n",
        "\n",
        "tf.enable_eager_execution()\n",
        "tf.enable_resource_variables()\n",
        "tf.compat.v1.enable_v2_behavior()\n",
        "\n",
        "tff.federated_computation(lambda: 'Hello, World!')()"
      ],
      "execution_count": 0,
      "outputs": []
    },
    {
      "metadata": {
        "colab_type": "text",
        "id": "5Cyy2AWbLMKj"
      },
      "cell_type": "markdown",
      "source": [
        "## Preparing the input data\n",
        "\n",
        "Let's start with the data. Federated learning requires a federated data set,\n",
        "i.e., a collection of data from multipe users. Federated data is typically\n",
        "non-[i.i.d.](https://en.wikipedia.org/wiki/Independent_and_identically_distributed_random_variables),\n",
        "which poses a unique set of challenges.\n",
        "\n",
        "In order to facilitate experimentation, we seeded the TFF repository with a few\n",
        "datasets, including a federated version of MNIST that contains a version of the [original NIST dataset](https://www.nist.gov/srd/nist-special-database-19) that has been re-processed using [Leaf](https://github.com/TalwalkarLab/leaf) so that the data is keyed by the original writer of the digits. Since each writer has a unique style, this dataset exhibits the kind of non-i.i.d. behavior expected of federated datasets.\n",
        "\n",
        "Here's how we can load it."
      ]
    },
    {
      "metadata": {
        "colab_type": "code",
        "id": "NayDhCX6SjwE",
        "colab": {}
      },
      "cell_type": "code",
      "source": [
        "#@test {\"output\": \"ignore\"}\n",
        "emnist_train, emnist_test = tff.simulation.datasets.emnist.load_data()"
      ],
      "execution_count": 0,
      "outputs": []
    },
    {
      "metadata": {
        "colab_type": "text",
        "id": "yeX8BKgPfeFw"
      },
      "cell_type": "markdown",
      "source": [
        "The data sets returned by `load_data()` are instances of\n",
        "`tff.simulation.ClientData`, an interface that allows you to enumerate the set\n",
        "of users, to construct a `tf.data.Dataset` that represents the data of a\n",
        "particular user, and to query the structure of individual elements. Here's how\n",
        "you can use this interface to explore the content of the data set. Keep in mind\n",
        "that while this interface allows you to iterate over clients ids, this is only a\n",
        "feature of the simulation data. As you will see shortly, client identities are\n",
        "not used by the federated learning framework - their only purpose is to allow\n",
        "you to select subsets of the data for simulations."
      ]
    },
    {
      "metadata": {
        "colab_type": "code",
        "id": "kN4-U5nJgKig",
        "colab": {}
      },
      "cell_type": "code",
      "source": [
        "len(emnist_train.client_ids)"
      ],
      "execution_count": 0,
      "outputs": []
    },
    {
      "metadata": {
        "colab_type": "code",
        "id": "ZyCzIrSegT62",
        "colab": {}
      },
      "cell_type": "code",
      "source": [
        "emnist_train.output_types, emnist_train.output_shapes"
      ],
      "execution_count": 0,
      "outputs": []
    },
    {
      "metadata": {
        "colab_type": "code",
        "id": "EsvSXGEMgd9G",
        "colab": {}
      },
      "cell_type": "code",
      "source": [
        "example_dataset = emnist_train.create_tf_dataset_for_client(\n",
        "    emnist_train.client_ids[0])\n",
        "\n",
        "example_element = iter(example_dataset).next()\n",
        "\n",
        "example_element['label'].numpy()"
      ],
      "execution_count": 0,
      "outputs": []
    },
    {
      "metadata": {
        "colab_type": "code",
        "id": "OmLV0nfMg98V",
        "colab": {}
      },
      "cell_type": "code",
      "source": [
        "#@test {\"output\": \"ignore\"}\n",
        "from matplotlib import pyplot as plt\n",
        "plt.imshow(example_element['pixels'].numpy(), cmap='gray', aspect='equal')\n",
        "plt.grid('off')\n",
        "_ = plt.show()"
      ],
      "execution_count": 0,
      "outputs": []
    },
    {
      "metadata": {
        "colab_type": "text",
        "id": "lMd01egqy9we"
      },
      "cell_type": "markdown",
      "source": [
        "Since the data is already a `tf.data.Dataset`,  preprocessing can be accomplished using Dataset transformations. Here, we flatten the `28x28` images\n",
        "into `784`-element arrays, shuffle the individual examples, organize them into batches, and renames the features\n",
        "from `pixels` and `label` to `x` and `y` for use with Keras. We also throw in a\n",
        "`repeat` over the data set to run several epochs."
      ]
    },
    {
      "metadata": {
        "colab_type": "code",
        "id": "cyG_BMraSuu_",
        "colab": {}
      },
      "cell_type": "code",
      "source": [
        "NUM_EPOCHS = 10\n",
        "BATCH_SIZE = 20\n",
        "SHUFFLE_BUFFER = 500\n",
        "\n",
        "def preprocess(dataset):\n",
        "  def element_fn(element):\n",
        "    return collections.OrderedDict([\n",
        "      ('x', tf.reshape(element['pixels'], [-1])), ('y', element['label'])])\n",
        "  return dataset.repeat(NUM_EPOCHS).map(element_fn).shuffle(SHUFFLE_BUFFER).batch(BATCH_SIZE)"
      ],
      "execution_count": 0,
      "outputs": []
    },
    {
      "metadata": {
        "colab_type": "text",
        "id": "m9LXykN_jlJw"
      },
      "cell_type": "markdown",
      "source": [
        "Let's verify this worked."
      ]
    },
    {
      "metadata": {
        "colab_type": "code",
        "id": "VChB7LMQjkYz",
        "colab": {}
      },
      "cell_type": "code",
      "source": [
        "#@test {\"output\": \"ignore\"}\n",
        "preprocessed_example_dataset = preprocess(example_dataset)\n",
        "\n",
        "sample_batch = nest.map_structure(\n",
        "    lambda x: x.numpy(), iter(preprocessed_example_dataset).next())\n",
        "\n",
        "sample_batch"
      ],
      "execution_count": 0,
      "outputs": []
    },
    {
      "metadata": {
        "colab_type": "text",
        "id": "JGsMvRQt9Agl"
      },
      "cell_type": "markdown",
      "source": [
        "We have almost all the building blocks in place to construct federated data\n",
        "sets.\n",
        "\n",
        "One of the ways to feed federated data to TFF in a simulation is, simply as a\n",
        "Python list, with each element of the list holding the data of an individual\n",
        "user, whether as a list or as a `tf.data.Dataset`. Since we already have\n",
        "an interface that provides the latter, let's use it.\n",
        "\n",
        "Here's a simple helper function that will construct a list of datasets from the\n",
        "given set of users as an input to a round of training or evaluation."
      ]
    },
    {
      "metadata": {
        "colab_type": "code",
        "id": "_PHMvHAI9xVc",
        "colab": {}
      },
      "cell_type": "code",
      "source": [
        "def make_federated_data(client_data, client_ids):\n",
        "  return [preprocess(client_data.create_tf_dataset_for_client(x))\n",
        "          for x in client_ids]"
      ],
      "execution_count": 0,
      "outputs": []
    },
    {
      "metadata": {
        "colab_type": "text",
        "id": "0M9PfjOtAVqw"
      },
      "cell_type": "markdown",
      "source": [
        "Now, how do we choose clients?\n",
        "\n",
        "In a typical federated training scenario, we are dealing with potentially a very\n",
        "large population of user devices, only a fraction of which may be available for\n",
        "training at a given point in time. This is the case, for example, when the\n",
        "client devices are mobile phones that participate in training only when plugged\n",
        "into a power source, off a metered network, and otherwise idle.\n",
        "\n",
        "Of course, we are in a simulation environment, and all the data is locally\n",
        "available. Typically then, when running simulations, we would simply sample a\n",
        "random subset of the clients to be involved in each round of training, generally\n",
        "different in each round.\n",
        "\n",
        "That said, as you can find out by studying the paper on the\n",
        "[Federated Averaging](https://arxiv.org/abs/1602.05629) algorithm, achieving convergence in a system with randomly sampled\n",
        "subsets of clients in each round can take a while, and it would be impractical\n",
        "to have to run hundreds of rounds in this interactive tutorial.\n",
        "\n",
        "What we'll do instead is, therefore, to sample the set of clients once, and\n",
        "reuse the same set across rounds to speed up convergence (intentionally\n",
        "over-fitting to these few user's data). We leave it as an exercise for the\n",
        "reader to modify this tutorial to simulate random sampling - it is fairly easy to\n",
        "do (once you do, keep in mind that getting the model to converge may take a\n",
        "while)."
      ]
    },
    {
      "metadata": {
        "colab_type": "code",
        "id": "GZ6NYHxB8xer",
        "colab": {}
      },
      "cell_type": "code",
      "source": [
        "#@test {\"output\": \"ignore\"}\n",
        "NUM_CLIENTS = 3\n",
        "\n",
        "sample_clients = emnist_train.client_ids[0:NUM_CLIENTS]\n",
        "\n",
        "federated_train_data = make_federated_data(emnist_train, sample_clients)\n",
        "\n",
        "len(federated_train_data), federated_train_data[0]"
      ],
      "execution_count": 0,
      "outputs": []
    },
    {
      "metadata": {
        "colab_type": "text",
        "id": "HOxq4tbi9m8-"
      },
      "cell_type": "markdown",
      "source": [
        "## Creating a model with Keras\n",
        "\n",
        "If you are using Keras, you likely already have code that constructs a Keras\n",
        "model. Here's an example of a simple model that will suffice for our needs."
      ]
    },
    {
      "metadata": {
        "colab_type": "code",
        "id": "LYCsJGJFWbqt",
        "colab": {}
      },
      "cell_type": "code",
      "source": [
        "def create_compiled_keras_model():\n",
        "  model = tf.keras.models.Sequential([\n",
        "      tf.keras.layers.Dense(\n",
        "          10, activation=tf.nn.softmax, kernel_initializer='zeros', input_shape=(784,))])\n",
        "  \n",
        "  def loss_fn(y_true, y_pred):\n",
        "    return tf.reduce_mean(tf.keras.metrics.sparse_categorical_crossentropy(\n",
        "        y_true, y_pred))\n",
        " \n",
        "  model.compile(\n",
        "      loss=loss_fn,\n",
        "      optimizer=gradient_descent.SGD(learning_rate=0.02),\n",
        "      metrics=[])\n",
        "  return model"
      ],
      "execution_count": 0,
      "outputs": []
    },
    {
      "metadata": {
        "colab_type": "text",
        "id": "NHdraKFH4OU2"
      },
      "cell_type": "markdown",
      "source": [
        "One critical note on `compile`. When used in the Federated Averaging algorithm,\n",
        "as below, the `optimizer` is only half of of the total optimization algorithm,\n",
        "as it is only used to compute local model updates on each client. The rest of\n",
        "the algorithm involves how these updates are averaged over clients, and how they\n",
        "are then applied to the global model at the server. In particular, this means\n",
        "that the choice of optimizer and learning rate used here may need to be\n",
        "different than the ones you have used to train the model on a standard i.i.d.\n",
        "dataset. We recommend starting with regular SGD, possibly with a smaller\n",
        "learning rate than usual. The learning rate we use here has not been carefully\n",
        "tuned, feel free to experiment.\n",
        "\n",
        "In order to use any model with TFF, it needs to be wrapped in an instance of the\n",
        "`tff.learning.Model` interface, which exposes methods to stamp the model's\n",
        "forward pass, metadata properties, etc., similarly to Keras, but also introduces\n",
        "additional elements, such as ways to control the process of computing federated\n",
        "metrics. Let's not worry about this for now; if you have a compiled Keras model\n",
        "like the one we've just defined above, you can have TFF wrap it for you by\n",
        "invoking `tff.learning.from_compiled_keras_model`, passing the model and a\n",
        "sample data batch as arguments, as shown below."
      ]
    },
    {
      "metadata": {
        "colab_type": "code",
        "id": "Q3ynrxd53HzY",
        "colab": {}
      },
      "cell_type": "code",
      "source": [
        "def model_fn():\n",
        "  keras_model = create_compiled_keras_model()\n",
        "  return tff.learning.from_compiled_keras_model(keras_model, sample_batch)"
      ],
      "execution_count": 0,
      "outputs": []
    },
    {
      "metadata": {
        "colab_type": "text",
        "id": "XJ5E3O18_JZ6"
      },
      "cell_type": "markdown",
      "source": [
        "## Training the model on federated data\n",
        "\n",
        "Now that we have a model wrapped as `tff.learning.Model` for use with TFF, we\n",
        "can let TFF construct a Federated Averaging algorithm by invoking the helper\n",
        "function `tff.learning.build_federated_averaging_process`, as follows.\n",
        "\n",
        "Keep in mind that the argument needs to be a constructor (such as `model_fn`\n",
        "above), not an already-constructed instance, so that the construction of your\n",
        "model can happen in a context controlled by TFF (if you're curious about the\n",
        "reasons for this, we encourage you to read the follow-up tutorial on\n",
        "[custom algorithms](custom_federated_algorithms_1.ipynb))."
      ]
    },
    {
      "metadata": {
        "colab_type": "code",
        "id": "sk6mjOfycX5N",
        "colab": {}
      },
      "cell_type": "code",
      "source": [
        "iterative_process = tff.learning.build_federated_averaging_process(model_fn)"
      ],
      "execution_count": 0,
      "outputs": []
    },
    {
      "metadata": {
        "colab_type": "text",
        "id": "f8FpvN2n67sm"
      },
      "cell_type": "markdown",
      "source": [
        "What just happened? TFF has constructed a pair of *federated computations* and\n",
        "packaged them into a `tff.utils.IterativeProcess` in which these computations\n",
        "are available as a pair of properties `initialize` and `next`.\n",
        "\n",
        "In a nutshell, *federated computations* are programs in TFF's internal language\n",
        "that can express various federated algorithms (you can find more about this in\n",
        "the [custom algorithms](custom_federated_algorithms_1.ipynb) tutorial). In this\n",
        "case, the two computations generated and packed into `iterative_process`\n",
        "implement [Federated Averaging](https://arxiv.org/abs/1602.05629).\n",
        "\n",
        "It is a goal of TFF to define computations in a way that they could be executed\n",
        "in real federated learning settings, but currently only local execution\n",
        "simulation runtime is implemented. To execute a computation in a simulator, you\n",
        "simply invoke it like a Python function. This default interpreted environment is\n",
        "not designed for high performance, but it will suffice for this tutorial; we\n",
        "expect to provide higher-performance simulation runtimes to facilitate\n",
        "larger-scale research in future releases.\n",
        "\n",
        "Let's start with the `initialize` computation. As is the case for all federated\n",
        "computations, you can think of it as a function. The computation takes no\n",
        "arguments, and returns one result - the representation of the state of the\n",
        "Federated Averaging process on the server. While we don't want to dive into the\n",
        "details of TFF, it may be instructive to see what this state looks like. You can\n",
        "visualize it as follows."
      ]
    },
    {
      "metadata": {
        "colab_type": "code",
        "id": "Z4pcfWsUBp_5",
        "colab": {}
      },
      "cell_type": "code",
      "source": [
        "#@test {\"output\": \"ignore\"}\n",
        "str(iterative_process.initialize.type_signature)"
      ],
      "execution_count": 0,
      "outputs": []
    },
    {
      "metadata": {
        "colab_type": "text",
        "id": "v1gbHQ_7BiyT"
      },
      "cell_type": "markdown",
      "source": [
        "While the above type signature may at first seem a bit cryptic, you can\n",
        "recognize that the server state consists of a `model` (the initial model\n",
        "parameters for MNIST that will be distributed to all devices), and\n",
        "`optimizer_state` (additional information maintained by the server, such as the\n",
        "number of rounds to use for hypermarameter schedules, etc.).\n",
        "\n",
        "Let's invoke the `initialize` computation to construct the server state."
      ]
    },
    {
      "metadata": {
        "colab_type": "code",
        "id": "6cagCWlZmcch",
        "colab": {}
      },
      "cell_type": "code",
      "source": [
        "state = iterative_process.initialize()"
      ],
      "execution_count": 0,
      "outputs": []
    },
    {
      "metadata": {
        "colab_type": "text",
        "id": "TjjxTx9e_rMd"
      },
      "cell_type": "markdown",
      "source": [
        "The second of the pair of federated computations, `next`, represents a single\n",
        "round of Federated Averaging, which consists of pushing the server state\n",
        "(including the model parameters) to the clients, on-device training on their\n",
        "local data, collecting and averaging model updates, and producing a new updated\n",
        "model at the server.\n",
        "\n",
        "Conceptually, you can think of `next` as having a functional type signature that\n",
        "looks as follows.\n",
        "\n",
        "```\n",
        "SERVER_STATE, FEDERATED_DATA -> SERVER_STATE, TRAINING_METRICS\n",
        "```\n",
        "\n",
        "In particular, one should think about `next()` not as being a function that runs on a server, but rather being a declarative functional representation of the entire decentralized computation - some of the inputs are provided by the server (`SERVER_STATE`), but each participating device contributes its own local dataset.\n",
        "\n",
        "Let's run a single round of training and visualize the results. We can use the\n",
        "federated data we've already generated above for a sample of users."
      ]
    },
    {
      "metadata": {
        "colab_type": "code",
        "id": "F3M_W9dDE6Tm",
        "colab": {}
      },
      "cell_type": "code",
      "source": [
        "#@test {\"timeout\": 600, \"output\": \"ignore\"}\n",
        "state, loss = iterative_process.next(state, federated_train_data)\n",
        "print('round  1, loss={:.4f}'.format(loss))"
      ],
      "execution_count": 0,
      "outputs": []
    },
    {
      "metadata": {
        "colab_type": "text",
        "id": "UmhReXt9G4A5"
      },
      "cell_type": "markdown",
      "source": [
        "Let's run a few more rounds. As noted earlier, typically at this point you would\n",
        "pick a subset of your simulation data from a new randomly selected sample of\n",
        "users for each round in order to simulate a realistic deployment in which users\n",
        "continuously come and go, but in this interactive notebook, for the sake of\n",
        "demonstration we'll just reuse the same users, so that the system converges\n",
        "quickly."
      ]
    },
    {
      "metadata": {
        "colab_type": "code",
        "id": "qrJkQuCRJP9C",
        "colab": {}
      },
      "cell_type": "code",
      "source": [
        "#@test {\"skip\": true}\n",
        "for round_num in range(2, 11):\n",
        "  state, loss = iterative_process.next(state, federated_train_data)\n",
        "  print('round {:2d}, loss={:.4f}'.format(round_num, loss))"
      ],
      "execution_count": 0,
      "outputs": []
    },
    {
      "metadata": {
        "colab_type": "text",
        "id": "T4hneAcb-F2l"
      },
      "cell_type": "markdown",
      "source": [
        "## Customizing the model implementation\n",
        "\n",
        "Keras is the [recommended high-level model API for TensorFlow](https://medium.com/tensorflow/standardizing-on-keras-guidance-on-high-level-apis-in-tensorflow-2-0-bad2b04c819a), and we encourage using Keras models (via \n",
        "`tff.learning.from_keras_model` or\n",
        "`tff.learning.from_compiled_keras_model`) in TFF whenever possible.\n",
        "\n",
        "However, `tff.learning` provides a lower-level model interface, `tff.learning.Model`, that exposes the minimal functionality necessary for using a model for federated learning. Directly implementing this interface (possibly still using building blocks like `tf.keras.layers`) allows for maximum customization without modifying the internals of the federated learning algorithms.\n",
        "\n",
        "So let's do it all over again from scratch.\n",
        "\n",
        "### Defining model variables, forward pass, and metrics\n",
        "\n",
        "The first step is to identify the TensorFlow variables we're going to work with.\n",
        "In order to make the following code more legible, let's define a data structure\n",
        "to represent the entire set. This will include variables such as `weights` and\n",
        "`bias` that we will train, as well as variables that will hold various\n",
        "cumulative statistics and counters we will update during training, such as\n",
        "`loss_sum`, `accuracy_sum`, and `num_examples`."
      ]
    },
    {
      "metadata": {
        "colab_type": "code",
        "id": "uqRD72WQC4u1",
        "colab": {}
      },
      "cell_type": "code",
      "source": [
        "MnistVariables = collections.namedtuple(\n",
        "    'MnistVariables', 'weights bias num_examples loss_sum accuracy_sum')"
      ],
      "execution_count": 0,
      "outputs": []
    },
    {
      "metadata": {
        "colab_type": "text",
        "id": "nkJfDcY5oXii"
      },
      "cell_type": "markdown",
      "source": [
        "Here's a method that creates the variables. For the sake of simplicity, we\n",
        "represent all statistics as `tf.float32`, as that will eliminate the need for\n",
        "type conversions at a later stage. Wrapping variable initializers as lambdas is\n",
        "a requirement imposed by\n",
        "[resource variables](https://www.tensorflow.org/api_docs/python/tf/enable_resource_variables)."
      ]
    },
    {
      "metadata": {
        "colab_type": "code",
        "id": "H3GQHLNqCfMU",
        "colab": {}
      },
      "cell_type": "code",
      "source": [
        "def create_mnist_variables():\n",
        "  return MnistVariables(\n",
        "      weights = tf.Variable(\n",
        "          lambda: tf.zeros(dtype=tf.float32, shape=(784, 10)),\n",
        "          name='weights',\n",
        "          trainable=True),\n",
        "      bias = tf.Variable(\n",
        "          lambda: tf.zeros(dtype=tf.float32, shape=(10)),\n",
        "          name='bias',\n",
        "          trainable=True),\n",
        "      num_examples = tf.Variable(0.0, name='num_examples', trainable=False),\n",
        "      loss_sum = tf.Variable(0.0, name='loss_sum', trainable=False),\n",
        "      accuracy_sum = tf.Variable(0.0, name='accuracy_sum', trainable=False))"
      ],
      "execution_count": 0,
      "outputs": []
    },
    {
      "metadata": {
        "colab_type": "text",
        "id": "SrdnR0fAre-Q"
      },
      "cell_type": "markdown",
      "source": [
        "With the variables for model parameters and cumulative statistics in place, we\n",
        "can now define the forward pass method that computes loss, emits predictions,\n",
        "and updates the cumulative statistics for a single batch of input data, as\n",
        "follows."
      ]
    },
    {
      "metadata": {
        "colab_type": "code",
        "id": "ZYSRAl-KCvC7",
        "colab": {}
      },
      "cell_type": "code",
      "source": [
        "def mnist_forward_pass(variables, batch):\n",
        "  y = tf.nn.softmax(tf.matmul(batch['x'], variables.weights) + variables.bias)\n",
        "  predictions = tf.cast(tf.argmax(y, 1), tf.int32)\n",
        "\n",
        "  loss = -tf.reduce_mean(tf.reduce_sum(\n",
        "      tf.one_hot(batch['y'], 10) * tf.log(y), reduction_indices=[1]))\n",
        "  accuracy = tf.reduce_mean(\n",
        "      tf.cast(tf.equal(predictions, batch['y']), tf.float32))\n",
        "\n",
        "  num_examples = tf.to_float(tf.size(batch['y']))\n",
        "\n",
        "  tf.assign_add(variables.num_examples, num_examples)\n",
        "  tf.assign_add(variables.loss_sum, loss * num_examples)\n",
        "  tf.assign_add(variables.accuracy_sum, accuracy * num_examples)\n",
        "\n",
        "  return loss, predictions"
      ],
      "execution_count": 0,
      "outputs": []
    },
    {
      "metadata": {
        "colab_type": "text",
        "id": "-gm-yx2Mr_bl"
      },
      "cell_type": "markdown",
      "source": [
        "Next, we define a function that returns a set of local metrics, again using TensorFlow. These are the values (in addition to model updates, which are handled automatically) that are elligible to be aggregated to the server in a federated learning or evaluation process.\n",
        "\n",
        "Here, we simply return the average `loss` and `accuracy`, as well as the\n",
        "`num_examples`, which we'll need to correctly weight the contributions from\n",
        "different users when computing federated aggregates."
      ]
    },
    {
      "metadata": {
        "colab_type": "code",
        "id": "RkAZXhjGEekp",
        "colab": {}
      },
      "cell_type": "code",
      "source": [
        "def get_local_mnist_metrics(variables):\n",
        "  return collections.OrderedDict([\n",
        "      ('num_examples', variables.num_examples),\n",
        "      ('loss', variables.loss_sum / variables.num_examples),\n",
        "      ('accuracy', variables.accuracy_sum / variables.num_examples)\n",
        "    ])"
      ],
      "execution_count": 0,
      "outputs": []
    },
    {
      "metadata": {
        "colab_type": "text",
        "id": "9ywGs1G-s1o3"
      },
      "cell_type": "markdown",
      "source": [
        "Finally, we need to determine how to aggregate the local metrics emitted by each\n",
        "device via `get_local_mnist_metrics`. This is the only part of the code that isn't written in TensorFlow  - it's a *federated computation* expressed in TFF. If you'd like to\n",
        "dig deeper, skim over the [custom algorithms](custom_federated_algorithms_1.ipynb)\n",
        "tutorial, but in most applications, you won't really need to; variants of the\n",
        "pattern show below should suffice. Here's what it looks like:\n"
      ]
    },
    {
      "metadata": {
        "colab_type": "code",
        "id": "BMr2PwkfExFI",
        "colab": {}
      },
      "cell_type": "code",
      "source": [
        "@tff.federated_computation\n",
        "def aggregate_mnist_metrics_across_clients(metrics):\n",
        "  return {\n",
        "      'num_examples': tff.federated_sum(metrics.num_examples),\n",
        "      'loss': tff.federated_average(metrics.loss, metrics.num_examples),\n",
        "      'accuracy': tff.federated_average(metrics.accuracy, metrics.num_examples)\n",
        "  }"
      ],
      "execution_count": 0,
      "outputs": []
    },
    {
      "metadata": {
        "colab_type": "text",
        "id": "2rXZ3Hg44aeN"
      },
      "cell_type": "markdown",
      "source": [
        "The input `metrics` argument corresponds to the `OrderedDict` returned by `get_local_mnist_metrics` above, but critically the values are no longer `tf.Tensors` - they are \"boxed\" as `tff.Value`s, to make it clear you can no longer manipulate them using TensorFlow, but only using TFF's federated operators like `tff.federated_average` and `tff.federated_sum`.  The returned\n",
        "dictionary of global aggregates defines the set of metrics which will be available on the server.\n",
        "\n",
        "\n"
      ]
    },
    {
      "metadata": {
        "colab_type": "text",
        "id": "7MXGAuQRvmcp"
      },
      "cell_type": "markdown",
      "source": [
        "### Constructing an instance of `tff.learning.Model`\n",
        "\n",
        "With all of the above in place, we are ready to construct a model representation\n",
        "for use with TFF similar to one that's generated for you when you let TFF ingest\n",
        "a Keras model."
      ]
    },
    {
      "metadata": {
        "colab_type": "code",
        "id": "blQGiTQFS9_r",
        "colab": {}
      },
      "cell_type": "code",
      "source": [
        "class MnistModel(tff.learning.Model):\n",
        "\n",
        "  def __init__(self):\n",
        "    self._variables = create_mnist_variables()\n",
        "\n",
        "  @property\n",
        "  def trainable_variables(self):\n",
        "    return [self._variables.weights, self._variables.bias]\n",
        "\n",
        "  @property\n",
        "  def non_trainable_variables(self):\n",
        "    return []\n",
        "\n",
        "  @property\n",
        "  def local_variables(self):\n",
        "    return [\n",
        "        self._variables.num_examples, self._variables.loss_sum,\n",
        "        self._variables.accuracy_sum\n",
        "    ]\n",
        "\n",
        "  @property\n",
        "  def input_spec(self):\n",
        "    return collections.OrderedDict([('x', tf.TensorSpec([None, 784],\n",
        "                                                        tf.float32)),\n",
        "                                    ('y', tf.TensorSpec([None], tf.int32))])\n",
        "\n",
        "  @tf.contrib.eager.function(autograph=False)\n",
        "  def forward_pass(self, batch, training=True):\n",
        "    del training\n",
        "    loss, predictions = mnist_forward_pass(self._variables, batch)\n",
        "    return tff.learning.BatchOutput(loss=loss, predictions=predictions)\n",
        "\n",
        "  @tf.contrib.eager.function(autograph=False)\n",
        "  def report_local_outputs(self):\n",
        "    return get_local_mnist_metrics(self._variables)\n",
        "\n",
        "  @property\n",
        "  def federated_output_computation(self):\n",
        "    return aggregate_mnist_metrics_across_clients"
      ],
      "execution_count": 0,
      "outputs": []
    },
    {
      "metadata": {
        "colab_type": "text",
        "id": "sMN1AszMwLHL"
      },
      "cell_type": "markdown",
      "source": [
        "As you can see, the abstract methods and properties defined by\n",
        "`tff.learning.Model` correspond closely to the code snippets that introduce the\n",
        "variables, define the loss and statistics that we introduced in the preceding\n",
        "section.\n",
        "\n",
        "Here are a few points worth highlighting:\n",
        "\n",
        "*   All state that your model will use must be captured as TensorFlow variables,\n",
        "    as TFF does not use Python at runtime (remember your code should be written\n",
        "    such that it can be deployed to mobile devices; see the\n",
        "    [custom algorithms](custom_federated_algorithms_1.ipynb) tutorial for a more\n",
        "    in-depth commentary on the reasons). \n",
        "*   Your model should describe what form of data it accepts (`input_spec`), as\n",
        "    in general, TFF is a stronly-typed environment and wants to determine type\n",
        "    signatures for all components. Declaring the format of your model's input is\n",
        "    an essential part of it.\n",
        "*   Although technically not required, we recommend wrapping all TensorFlow\n",
        "    logic (forward pass, metric calculations) as `tf.contrib.eager.function`s, as this helps ensure the TensorFlow can be serialized, and removes the need for explicit control dependencies."
      ]
    },
    {
      "metadata": {
        "colab_type": "text",
        "id": "9DVhXk2Bu-GU"
      },
      "cell_type": "markdown",
      "source": [
        "The above is sufficient for evaluation and algorithms like Federated SGD.\n",
        "However, for Federated Averaging, we need to specify how the model should train\n",
        "locally on each batch."
      ]
    },
    {
      "metadata": {
        "colab_type": "code",
        "id": "q1w7US3PFN2p",
        "colab": {}
      },
      "cell_type": "code",
      "source": [
        "class MnistTrainableModel(MnistModel, tff.learning.TrainableModel):\n",
        "\n",
        "  @tf.contrib.eager.defun(autograph=False)\n",
        "  def train_on_batch(self, batch):\n",
        "    output = self.forward_pass(batch)\n",
        "    optimizer = tf.train.GradientDescentOptimizer(0.02)\n",
        "    optimizer.minimize(output.loss, var_list=self.trainable_variables)\n",
        "    return output"
      ],
      "execution_count": 0,
      "outputs": []
    },
    {
      "metadata": {
        "colab_type": "text",
        "id": "hVBugKP3yw03"
      },
      "cell_type": "markdown",
      "source": [
        "### Simulating federated training with the new model\n",
        "\n",
        "With all the above in place, the remainder of the process looks like what we've\n",
        "seen already - just replace the model constructor with the constructor of our\n",
        "new model class, and use the two federated computations in the iterative process\n",
        "you created to cycle through training rounds."
      ]
    },
    {
      "metadata": {
        "colab_type": "code",
        "id": "FK3c8_leS9_t",
        "colab": {}
      },
      "cell_type": "code",
      "source": [
        "iterative_process = tff.learning.build_federated_averaging_process(\n",
        "    MnistTrainableModel)"
      ],
      "execution_count": 0,
      "outputs": []
    },
    {
      "metadata": {
        "colab_type": "code",
        "id": "Jv_LiggwS9_u",
        "colab": {}
      },
      "cell_type": "code",
      "source": [
        "state = iterative_process.initialize()"
      ],
      "execution_count": 0,
      "outputs": []
    },
    {
      "metadata": {
        "colab_type": "code",
        "id": "PtOLElmzDPxs",
        "colab": {}
      },
      "cell_type": "code",
      "source": [
        "#@test {\"timeout\": 600, \"output\": \"ignore\"}\n",
        "state, metrics = iterative_process.next(state, federated_train_data)\n",
        "print('round  1, metrics={}'.format(metrics))"
      ],
      "execution_count": 0,
      "outputs": []
    },
    {
      "metadata": {
        "colab_type": "code",
        "id": "gFkv0yJEGhue",
        "colab": {}
      },
      "cell_type": "code",
      "source": [
        "#@test {\"skip\": true}\n",
        "for round_num in range(2, 11):\n",
        "  state, metrics = iterative_process.next(state, federated_train_data)\n",
        "  print('round {:2d}, metrics={}'.format(round_num, metrics))"
      ],
      "execution_count": 0,
      "outputs": []
    },
    {
      "metadata": {
        "colab_type": "text",
        "id": "m7lz59lMJ0kj"
      },
      "cell_type": "markdown",
      "source": [
        "## Evaluation\n",
        "\n",
        "All of our experiments so far presented only federated training metrics - the average metrics over all batches of data trained across all clients in the round. This introduces the normal concerns about overfitting, especially since we used the same set of clients on each round for simplicity, but there is an additional notion of overfitting in training metrics specific to the Federated Averaging algorithm. This is easiest to see if we imagine each client had a single batch of data, and we train on that batch for many iterations (epochs). In this case, the local model will quickly exactly fit to that one batch, and so the local accuracy metric we average will approach 1.0. Thus, these training metrics can be taken as a sign that training is progressing, but not much more.\n",
        "\n",
        "To perform evaluation on federated data, you can construct another *federated computation*\n",
        "designed for just this purpose, using the\n",
        "`tff.learning.build_federated_evaluation` function, and passing in your model\n",
        "constructor as an argument. Note that unlike with Federated Averaging, where we've\n",
        "used `MnistTrainableModel`, it suffices to pass the `MnistModel`. Evaluation\n",
        "doesn't perform gradient descent, and there's no need to construct optimizers.\n",
        "\n",
        "For experimentation and research, when a centralized test dataset is available, [Federated Learning for Text Generation](federated_learning_for_text_generation.ipynb) demonstrates another evaluation option: taking the trained weights from federated learning, applying them to a standard Keras model, and then simply calling `tf.keras.models.Model.evaluate()` on a centralized dataset."
      ]
    },
    {
      "metadata": {
        "colab_type": "code",
        "id": "nRiXyqnXM2VO",
        "colab": {}
      },
      "cell_type": "code",
      "source": [
        "evaluation = tff.learning.build_federated_evaluation(MnistModel)"
      ],
      "execution_count": 0,
      "outputs": []
    },
    {
      "metadata": {
        "colab_type": "text",
        "id": "uwfINGoNQEuV"
      },
      "cell_type": "markdown",
      "source": [
        "You can inspect the abstract type signature of the evaluation function as follows."
      ]
    },
    {
      "metadata": {
        "colab_type": "code",
        "id": "3q5ueoO0NDNb",
        "colab": {}
      },
      "cell_type": "code",
      "source": [
        "str(evaluation.type_signature)"
      ],
      "execution_count": 0,
      "outputs": []
    },
    {
      "metadata": {
        "colab_type": "text",
        "id": "XA3v7f2SQs6q"
      },
      "cell_type": "markdown",
      "source": [
        "No need to be concerned about the details at this point, just be aware that it\n",
        "takes the following general form, similar to `tff.utils.IterativeProcess.next`\n",
        "but with two important differences. First, we are not returning server state,\n",
        "since evaluation doesn't modify the model or any other aspect of state - you can\n",
        "think of it as stateless. Second, evaluation only needs the model, and doesn't\n",
        "require any other part of server state that might be associated with training,\n",
        "such as optimizer variables.\n",
        "\n",
        "```\n",
        "SERVER_MODEL, FEDERATED_DATA -> TRAINING_METRICS\n",
        "```\n",
        "\n",
        "Let's invoke evaluation on the latest state we arrived at during training. In\n",
        "order to extract the latest trained model from the server state, you simply\n",
        "access the `.model` member, as follows."
      ]
    },
    {
      "metadata": {
        "colab_type": "code",
        "id": "OX4Sk_uyOaYa",
        "colab": {}
      },
      "cell_type": "code",
      "source": [
        "#@test {\"output\": \"ignore\"}\n",
        "train_metrics = evaluation(state.model, federated_train_data)"
      ],
      "execution_count": 0,
      "outputs": []
    },
    {
      "metadata": {
        "colab_type": "text",
        "id": "UeEsdwJgRGMW"
      },
      "cell_type": "markdown",
      "source": [
        "Here's what we get. Note the numbers look marginally bettre than what was\n",
        "reported by the last round of training above. By convention, the training\n",
        "metrics reported by the iterative training process generally reflect the\n",
        "performance of the model at the beginning of the training round, so the\n",
        "evaluation metrics will always be one step ahead."
      ]
    },
    {
      "metadata": {
        "colab_type": "code",
        "id": "zwCy1IPxOfiT",
        "colab": {}
      },
      "cell_type": "code",
      "source": [
        "#@test {\"output\": \"ignore\"}\n",
        "str(train_metrics)"
      ],
      "execution_count": 0,
      "outputs": []
    },
    {
      "metadata": {
        "colab_type": "text",
        "id": "SpfgdNDoRjPy"
      },
      "cell_type": "markdown",
      "source": [
        "Now, let's compile a test sample of federated data and rerun evaluation on the\n",
        "test data. The data will come from the same sample of real users, but from a\n",
        "distinct held-out data set."
      ]
    },
    {
      "metadata": {
        "colab_type": "code",
        "id": "in8vProVNc04",
        "colab": {}
      },
      "cell_type": "code",
      "source": [
        "federated_test_data = make_federated_data(emnist_test, sample_clients)\n",
        "\n",
        "len(federated_test_data), federated_test_data[0]"
      ],
      "execution_count": 0,
      "outputs": []
    },
    {
      "metadata": {
        "colab_type": "code",
        "id": "ty-ZwfE0NJfV",
        "colab": {}
      },
      "cell_type": "code",
      "source": [
        "#@test {\"output\": \"ignore\"}\n",
        "test_metrics = evaluation(state.model, federated_test_data)"
      ],
      "execution_count": 0,
      "outputs": []
    },
    {
      "metadata": {
        "colab_type": "code",
        "id": "e5fGtIJYNqYH",
        "colab": {}
      },
      "cell_type": "code",
      "source": [
        "#@test {\"output\": \"ignore\"}\n",
        "str(test_metrics)"
      ],
      "execution_count": 0,
      "outputs": []
    },
    {
      "metadata": {
        "colab_type": "text",
        "id": "67vYxrDWzRcj"
      },
      "cell_type": "markdown",
      "source": [
        "This concludes the tutorial. As noted above, we encourage you to play with the\n",
        "parameters (e.g., batch sizes, number of users, epochs, learning ratres, etc.),\n",
        "and to modify the code above to simulate training on random samples of users in\n",
        "each round, and to explore other tutorials we've developed."
      ]
    }
  ]
}