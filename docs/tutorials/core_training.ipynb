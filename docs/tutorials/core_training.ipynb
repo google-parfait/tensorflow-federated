{
  "cells": [
    {
      "cell_type": "markdown",
      "metadata": {
        "colab_type": "text",
        "id": "UO_iPe7CRdku"
      },
      "source": [
        "A small self-contained training example built directly on top of Core API.\n",
        "\n",
        "This example contains a simpler form of federated averaging logic, similar to that which one might find in `../../learning`, but optimized for simplicity and compactness and illustrating the use of basic mechanisms provided by the Core API. The user is encouraged to study the simplified structure of this example first as a stepping stone towards the more general implementation in `learning`."
      ]
    },
    {
      "cell_type": "code",
      "execution_count": 0,
      "metadata": {
        "colab": {},
        "colab_type": "code",
        "id": "lVLl8cDN-UNB"
      },
      "outputs": [],
      "source": [
        "import collections\n",
        "\n",
        "import tensorflow as tf\n",
        "\n",
        "from tensorflow_federated import python as tff"
      ]
    },
    {
      "cell_type": "markdown",
      "metadata": {
        "colab_type": "text",
        "id": "wS_nFEldQ9Ak"
      },
      "source": [
        "The model we will train is a simple linear classifier that given a discrete input class named `X` predicts a discrete output class named `Y`. The input class is an integer from 0 to `NUM_X_CLASSES` - 1, and the output is an integer from 0 to `NUM_Y_CLASSES`.\n"
      ]
    },
    {
      "cell_type": "code",
      "execution_count": 0,
      "metadata": {
        "colab": {},
        "colab_type": "code",
        "id": "gBFMKOpE-2wq"
      },
      "outputs": [],
      "source": [
        "NUM_X_CLASSES = 7\n",
        "NUM_Y_CLASSES = 3"
      ]
    },
    {
      "cell_type": "markdown",
      "metadata": {
        "colab_type": "text",
        "id": "YifOgYbCRoHE"
      },
      "source": [
        "The samples of data used to train or evaluate the model will consists of the values of the 2 features 'X' and 'Y'. The data will arrive in batches (e.g., as is typicallyh the case for the output of 'tf.parse_example'). Every batch of samples is represented as a TFF named tuple ewith 2 elements 'X' and 'Y', each of which is a tf.int32 tensor with a single dimension (so conceptually, a vector). The two tensors should have the same number of elements (this is not expressed in the type below). The number of elements is unspecified (the shape of both scalars is [None]), since the individual batches of data might contain unequal numbers of samples not known in advance.\n"
      ]
    },
    {
      "cell_type": "code",
      "execution_count": 21,
      "metadata": {
        "colab": {
          "height": 35
        },
        "colab_type": "code",
        "executionInfo": {
          "elapsed": 13,
          "status": "ok",
          "timestamp": 1547231219912,
          "user": {
            "displayName": "",
            "photoUrl": "",
            "userId": ""
          },
          "user_tz": 480
        },
        "id": "TRYJnBya_Bvw",
        "outputId": "88b53055-a592-4a36-e645-5d56c92736e1"
      },
      "outputs": [
        {
          "data": {
            "text/plain": [
              "NamedTupleType([('X', TensorType(tf.int32, [None])), ('Y', TensorType(tf.int32, [None]))])"
            ]
          },
          "execution_count": 21,
          "metadata": {
            "tags": []
          },
          "output_type": "execute_result"
        }
      ],
      "source": [
        "BATCH_TYPE = tff.NamedTupleType([\n",
        "    ('X', tff.TensorType(tf.int32, shape=[None])),\n",
        "    ('Y', tff.TensorType(tf.int32, shape=[None])),\n",
        "])\n",
        "BATCH_TYPE"
      ]
    },
    {
      "cell_type": "markdown",
      "metadata": {
        "colab_type": "text",
        "id": "jWlAVAlIRypN"
      },
      "source": [
        "The input to training/evaluation is simply a sequence of such batches."
      ]
    },
    {
      "cell_type": "code",
      "execution_count": 22,
      "metadata": {
        "colab": {
          "height": 35
        },
        "colab_type": "code",
        "executionInfo": {
          "elapsed": 11,
          "status": "ok",
          "timestamp": 1547231219976,
          "user": {
            "displayName": "",
            "photoUrl": "",
            "userId": ""
          },
          "user_tz": 480
        },
        "id": "eNO7GZSl_DLv",
        "outputId": "fde3f074-068c-4dd3-a003-2bfaff957472"
      },
      "outputs": [
        {
          "data": {
            "text/plain": [
              "SequenceType(NamedTupleType([('X', TensorType(tf.int32, [None])), ('Y', TensorType(tf.int32, [None]))]))"
            ]
          },
          "execution_count": 22,
          "metadata": {
            "tags": []
          },
          "output_type": "execute_result"
        }
      ],
      "source": [
        "INPUT_TYPE = tff.SequenceType(BATCH_TYPE)\n",
        "INPUT_TYPE"
      ]
    },
    {
      "cell_type": "markdown",
      "metadata": {
        "colab_type": "text",
        "id": "mG0gqUSaR10c"
      },
      "source": [
        "The parameters of the model consist of a weight matrix and a bias vector, to be applied to a one-hot encoding of the inputs.\n"
      ]
    },
    {
      "cell_type": "code",
      "execution_count": 23,
      "metadata": {
        "colab": {
          "height": 35
        },
        "colab_type": "code",
        "executionInfo": {
          "elapsed": 13,
          "status": "ok",
          "timestamp": 1547231220050,
          "user": {
            "displayName": "",
            "photoUrl": "",
            "userId": ""
          },
          "user_tz": 480
        },
        "id": "eMvnm8HP_F7o",
        "outputId": "9473dbff-0a9f-4a85-d609-aab7cdafd96f"
      },
      "outputs": [
        {
          "data": {
            "text/plain": [
              "NamedTupleType([('weights', TensorType(tf.float32, [7, 3])), ('bias', TensorType(tf.float32, [3]))])"
            ]
          },
          "execution_count": 23,
          "metadata": {
            "tags": []
          },
          "output_type": "execute_result"
        }
      ],
      "source": [
        "MODEL_TYPE = tff.NamedTupleType([\n",
        "    ('weights', tff.TensorType(tf.float32, [NUM_X_CLASSES, NUM_Y_CLASSES])),\n",
        "    ('bias', tff.TensorType(tf.float32, NUM_Y_CLASSES)),\n",
        "])\n",
        "MODEL_TYPE"
      ]
    },
    {
      "cell_type": "markdown",
      "metadata": {
        "colab_type": "text",
        "id": "PcUl6vtsR6Nc"
      },
      "source": [
        "A simple TensorFlow computation that computes loss and accuracy metrics on a batch of features.\n",
        "\n",
        "The function decorator `tff.tf_computation` transforms the Python function into a `tff.Computation`, a unit of composition in TFF. When a Python function is wrapped as a computation, one can think of it as conceptually consuming and returning TFF values that have TFF types. The TFF type of the parameter of computation `tff.extract_features` is a tensor type declared as the argument to the decorator, see above for the definition of `BATCH_TYPE`. The TFF type of the value returned by the `tff.extract_features` computation is determined automatically. In this case, it is a TFF named tuple with 2 named elements constructed from elements of the returned Python dictionary.\n"
      ]
    },
    {
      "cell_type": "code",
      "execution_count": 0,
      "metadata": {
        "colab": {},
        "colab_type": "code",
        "id": "H8HrfMt8Easp"
      },
      "outputs": [],
      "source": [
        "@tff.tf_computation([BATCH_TYPE, MODEL_TYPE])\n",
        "def forward_pass(features, model):\n",
        "  encoded_x = tf.one_hot(features.X, NUM_X_CLASSES)\n",
        "  encoded_y = tf.one_hot(features.Y, NUM_Y_CLASSES)\n",
        "  softmax_y = tf.nn.softmax(tf.matmul(encoded_x, model.weights) + model.bias)\n",
        "  loss = tf.reduce_mean(\n",
        "      -tf.reduce_sum(encoded_y * tf.log(softmax_y), reduction_indices=1))\n",
        "  prediction = tf.cast(tf.argmax(softmax_y, 1), tf.int32)\n",
        "  is_correct = tf.equal(prediction, features.Y)\n",
        "  accuracy = tf.reduce_mean(tf.cast(is_correct, tf.float32))\n",
        "  count = tf.size(features.X)\n",
        "  return collections.OrderedDict([\n",
        "      ('loss', loss),\n",
        "      ('accuracy', accuracy),\n",
        "      ('count', count),\n",
        "  ])"
      ]
    },
    {
      "cell_type": "markdown",
      "metadata": {
        "colab_type": "text",
        "id": "7K1tWkt2SHJl"
      },
      "source": [
        "Capturing type signature of the named tuple of statistics (metrics, counters) computed by the model."
      ]
    },
    {
      "cell_type": "code",
      "execution_count": 25,
      "metadata": {
        "colab": {
          "height": 35
        },
        "colab_type": "code",
        "executionInfo": {
          "elapsed": 10,
          "status": "ok",
          "timestamp": 1547231220211,
          "user": {
            "displayName": "",
            "photoUrl": "",
            "userId": ""
          },
          "user_tz": 480
        },
        "id": "DwpM_Jm9EmbS",
        "outputId": "98e5db32-9b83-4e58-f1a6-32c01ffa4efd"
      },
      "outputs": [
        {
          "data": {
            "text/plain": [
              "NamedTupleType([('loss', TensorType(tf.float32)), ('accuracy', TensorType(tf.float32)), ('count', TensorType(tf.int32))])"
            ]
          },
          "execution_count": 25,
          "metadata": {
            "tags": []
          },
          "output_type": "execute_result"
        }
      ],
      "source": [
        "STATS_TYPE = forward_pass.type_signature.result\n",
        "STATS_TYPE"
      ]
    },
    {
      "cell_type": "code",
      "execution_count": 0,
      "metadata": {
        "colab": {},
        "colab_type": "code",
        "id": "9FWhEEs7CODQ"
      },
      "outputs": [],
      "source": [
        "# Since execution is not yet supported, using `tf_computation` temporarily\n",
        "# to allow `forward_pass` to get stamped, and manually driving Session.run\n",
        "# to execute it.\n",
        "# TODO(b/113116813): Use the interfaces for executing computations as soon\n",
        "# as they're ready rather than manually driving TensorFlow graphs in tests,\n",
        "# which should help to shorten and simplify this code.\n",
        "@tff.tf_computation\n",
        "def _():\n",
        "  # When creating the batch, we have to specify a concrete shape, since by\n",
        "  # default 'BATCH_TYPE' leaves batch size undefined.\n",
        "  batch = tff.utils.get_variables(\n",
        "      name='batch',\n",
        "      type_spec=[('X', (tf.int32, [5])), ('Y', (tf.int32, [5]))],\n",
        "      initializer=tf.zeros_initializer())\n",
        "\n",
        "  model = tff.utils.get_variables(\n",
        "      name='model',\n",
        "      type_spec=MODEL_TYPE,\n",
        "      initializer=tf.zeros_initializer())\n",
        "\n",
        "  loss = forward_pass(batch, model).loss\n",
        "\n",
        "  # TODO(b/113116813): Replace this temporary workaround with a proper call\n",
        "  # that gets plumbed through the execution API, once it materializes.\n",
        "  # For now, just testing here that the graph has been stitched correctly,\n",
        "  # and that something gets computed at all.\n",
        "  with tf.Session(graph=tf.get_default_graph()) as sess:\n",
        "    sess.run(tf.global_variables_initializer())\n",
        "    sess.run(loss)\n",
        "\n",
        "  return loss"
      ]
    }
  ],
  "metadata": {
    "colab": {
      "collapsed_sections": [],
      "last_runtime": {
        "build_target": "",
        "kind": "local"
      },
      "name": "Training Example Uisng TFF Core API",
      "provenance": [
        {
          "file_id": "1FuV5nQFsa54XJSahUG0RwZpPGQzdTz_D",
          "timestamp": 1547078723514
        }
      ],
      "version": "0.3.2"
    },
    "kernelspec": {
      "display_name": "Python 2",
      "name": "python2"
    }
  },
  "nbformat": 4,
  "nbformat_minor": 0
}
